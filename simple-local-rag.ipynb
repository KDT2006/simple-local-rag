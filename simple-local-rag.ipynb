{
 "cells": [
  {
   "cell_type": "markdown",
   "metadata": {},
   "source": [
    "## 1. Document/text processing and embedding creation\n",
    "\n",
    "Ingredients:\n",
    "* PDF document of choice (could be any kind of document).\n",
    "* Embedding model of choice.\n",
    "\n",
    "Steps:\n",
    "1. Import PDF document.\n",
    "2. Process text for embedding.\n",
    "3. Embed text chunks with embedding model.\n",
    "4. Save embeddings to file for later use."
   ]
  },
  {
   "cell_type": "markdown",
   "metadata": {},
   "source": [
    "### Import PDF Document"
   ]
  },
  {
   "cell_type": "code",
   "execution_count": 1,
   "metadata": {},
   "outputs": [
    {
     "name": "stdout",
     "output_type": "stream",
     "text": [
      "File human-nutrition-text.pdf exists.\n"
     ]
    }
   ],
   "source": [
    "import os\n",
    "import requests # help download stuff\n",
    "\n",
    "# Get PDF Document\n",
    "pdf_path = \"human-nutrition-text.pdf\"\n",
    "\n",
    "# Download\n",
    "if not os.path.exists(pdf_path):\n",
    "    print(f\"[INFO] File doesn't exist, downloading...\")\n",
    "\n",
    "    # Enter URL of the pdf\n",
    "    url = \"https://pressbooks.oer.hawaii.edu/humannutrition2/open/download?type=pdf\"\n",
    "\n",
    "    # The local filename to save the downloaded file\n",
    "    filename = pdf_path\n",
    "\n",
    "    # Send a GET request to the URL\n",
    "    response = requests.get(url)\n",
    "    if response.status_code == 200:\n",
    "        # Open the file and save it\n",
    "        with open(pdf_path, \"wb\") as file:\n",
    "            file.write(response.content)\n",
    "        print(f\"[INFO] The file has been downloaded and saved as {filename}\")\n",
    "    else:\n",
    "        print(f\"[INFO] Failed to download the file. Status Code: {response.status_code}\")\n",
    "else:\n",
    "    print(f\"File {pdf_path} exists.\")"
   ]
  },
  {
   "cell_type": "code",
   "execution_count": 2,
   "metadata": {},
   "outputs": [
    {
     "data": {
      "application/vnd.jupyter.widget-view+json": {
       "model_id": "e36e70624cbe4f0eb7a0fbdaa1b0daf3",
       "version_major": 2,
       "version_minor": 0
      },
      "text/plain": [
       "0it [00:00, ?it/s]"
      ]
     },
     "metadata": {},
     "output_type": "display_data"
    },
    {
     "data": {
      "text/plain": [
       "[{'page_number': -41,\n",
       "  'page_char_count': 29,\n",
       "  'page_word_count': 4,\n",
       "  'page_sentence_count_raw': 1,\n",
       "  'page_token_count': 7.25,\n",
       "  'text': 'Human Nutrition: 2020 Edition'},\n",
       " {'page_number': -40,\n",
       "  'page_char_count': 0,\n",
       "  'page_word_count': 1,\n",
       "  'page_sentence_count_raw': 1,\n",
       "  'page_token_count': 0.0,\n",
       "  'text': ''}]"
      ]
     },
     "execution_count": 2,
     "metadata": {},
     "output_type": "execute_result"
    }
   ],
   "source": [
    "import fitz # requires: PyMuPDF\n",
    "from tqdm.auto import tqdm\n",
    "\n",
    "def text_formatter(text: str) -> str:\n",
    "    \"\"\"Performs minor formatting on text\"\"\"\n",
    "    cleaned_text = text.replace(\"\\n\", \" \").strip()\n",
    "\n",
    "    return cleaned_text\n",
    "\n",
    "def open_and_read_pds(pdf_path: str) -> list[dict]:\n",
    "    doc = fitz.open(pdf_path)\n",
    "    pages_and_texts = []\n",
    "    for page_number, page in tqdm(enumerate(doc)):\n",
    "        text = page.get_text()\n",
    "        text = text_formatter(text)\n",
    "        pages_and_texts.append({\"page_number\": page_number - 41,\n",
    "                                \"page_char_count\": len(text),\n",
    "                                \"page_word_count\": len(text.split(\" \")),\n",
    "                                \"page_sentence_count_raw\": len(text.split(\".\")),\n",
    "                                \"page_token_count\": len(text) / 4, # 1 token ~4 chars\n",
    "                                \"text\": text\n",
    "                               })\n",
    "    return pages_and_texts\n",
    "\n",
    "pages_and_texts = open_and_read_pds(pdf_path)\n",
    "pages_and_texts[:2]"
   ]
  },
  {
   "cell_type": "code",
   "execution_count": 3,
   "metadata": {},
   "outputs": [
    {
     "data": {
      "text/plain": [
       "[{'page_number': 337,\n",
       "  'page_char_count': 1848,\n",
       "  'page_word_count': 315,\n",
       "  'page_sentence_count_raw': 13,\n",
       "  'page_token_count': 462.0,\n",
       "  'text': 'functions eicosanoids serve in the body, their primary function  is to regulate inflammation. Without these hormones the body  would not be able to heal wounds, fight infections, or fight off  illness each time a foreign germ presented itself. Eicosanoids  work together with the body’s immune and inflammatory  processes to play a major role in several important body  functions, such as circulation, respiration, and muscle  movement.  Attain the Omega-3 and Omega-6 Balance  As our food choices evolve, the sources of omega-6 fatty acids  in our diets are increasing at a much faster rate than sources of  omega-3 fatty acids. Omega-3s are plentiful in diets of non- processed foods where grazing animals and foraging chickens roam  free, eating grass, clover, alfalfa, and grass-dwelling insects. In  contrast, today’s western diets are bombarded with sources of  omega-6. For example, we have oils derived from seeds and nuts  and from the meat of animals that are fed grain. Vegetable oils used  in fast-food preparations, most snack-foods, cookies, crackers, and  sweet treats are also loaded with omega-6 fatty acids. Also, our  bodies synthesize eicosanoids from omega-6 fatty acids and these  tend to increase inflammation, blood clotting, and cell proliferation,  while the hormones synthesized from omega-3 fatty acids have just  the opposite effect.  While omega-6 fatty acids are essential, they can be harmful  when they are out of balance with omega-3 fatty acids. Omega-6  fats are required only in small quantities. Researchers believe that  when omega-6 fats are out of balance with omega-3 fats in the  diet they diminish the effects of omega-3 fats and their benefits.  This imbalance may elevate the risks for allergies, arthritis, asthma,  coronary heart disease, diabetes, and many types of cancer,  Tools for Change  |  337'},\n",
       " {'page_number': 388,\n",
       "  'page_char_count': 1587,\n",
       "  'page_word_count': 272,\n",
       "  'page_sentence_count_raw': 15,\n",
       "  'page_token_count': 396.75,\n",
       "  'text': 'Even a slight change in blood pH can affect body functions. Recall  that acidic conditions can cause protein denaturation, which stops  proteins from functioning. The body has several systems that hold  the blood pH within the normal range to prevent this from  happening. One of these is the circulating albumin. Albumin is  slightly acidic, and because it is negatively charged it balances the  many positively charged molecules, such as protons (H+), calcium,  potassium, and magnesium which are also circulating in the blood.  Albumin acts as a buffer against abrupt changes in the  concentrations of these molecules, thereby balancing blood pH and  maintaining the status quo. The protein hemoglobin also  participates in acid-base balance by binding and releasing protons.  Transport  Albumin and hemoglobin also play a role in molecular transport.  Albumin chemically binds to hormones, fatty acids, some vitamins,  essential minerals, and drugs, and transports them throughout the  circulatory system. Each red blood cell contains millions of  hemoglobin molecules that bind oxygen in the lungs and transport it  to all the tissues in the body. A cell’s plasma membrane is usually not  permeable to large polar molecules, so to get the required nutrients  and molecules into the cell many transport proteins exist in the  cell membrane. Some of these proteins are channels that allow  particular molecules to move in and out of cells. Others act as one- way taxis and require energy to function.  Protection  Figure 6.12 Antibody Proteins  388  |  Protein’s Functions in the Body'},\n",
       " {'page_number': 779,\n",
       "  'page_char_count': 276,\n",
       "  'page_word_count': 60,\n",
       "  'page_sentence_count_raw': 2,\n",
       "  'page_token_count': 69.0,\n",
       "  'text': 'Image by Pua  O Eleili Pinto  / CC BY 4.0  Introduction  UNIVERSITY OF HAWAI‘I AT MĀNOA FOOD SCIENCE AND HUMAN  NUTRITION PROGRAM AND HUMAN NUTRITION PROGRAM  I maika‘i ke kalo i ka ‘ohā  The goodness of the taro is judged by the young plant it  produces  Introduction  |  779'}]"
      ]
     },
     "execution_count": 3,
     "metadata": {},
     "output_type": "execute_result"
    }
   ],
   "source": [
    "import random\n",
    "\n",
    "random.sample(pages_and_texts, k=3)"
   ]
  },
  {
   "cell_type": "code",
   "execution_count": 4,
   "metadata": {},
   "outputs": [
    {
     "data": {
      "text/html": [
       "<div>\n",
       "<style scoped>\n",
       "    .dataframe tbody tr th:only-of-type {\n",
       "        vertical-align: middle;\n",
       "    }\n",
       "\n",
       "    .dataframe tbody tr th {\n",
       "        vertical-align: top;\n",
       "    }\n",
       "\n",
       "    .dataframe thead th {\n",
       "        text-align: right;\n",
       "    }\n",
       "</style>\n",
       "<table border=\"1\" class=\"dataframe\">\n",
       "  <thead>\n",
       "    <tr style=\"text-align: right;\">\n",
       "      <th></th>\n",
       "      <th>page_number</th>\n",
       "      <th>page_char_count</th>\n",
       "      <th>page_word_count</th>\n",
       "      <th>page_sentence_count_raw</th>\n",
       "      <th>page_token_count</th>\n",
       "      <th>text</th>\n",
       "    </tr>\n",
       "  </thead>\n",
       "  <tbody>\n",
       "    <tr>\n",
       "      <th>0</th>\n",
       "      <td>-41</td>\n",
       "      <td>29</td>\n",
       "      <td>4</td>\n",
       "      <td>1</td>\n",
       "      <td>7.25</td>\n",
       "      <td>Human Nutrition: 2020 Edition</td>\n",
       "    </tr>\n",
       "    <tr>\n",
       "      <th>1</th>\n",
       "      <td>-40</td>\n",
       "      <td>0</td>\n",
       "      <td>1</td>\n",
       "      <td>1</td>\n",
       "      <td>0.00</td>\n",
       "      <td></td>\n",
       "    </tr>\n",
       "    <tr>\n",
       "      <th>2</th>\n",
       "      <td>-39</td>\n",
       "      <td>320</td>\n",
       "      <td>54</td>\n",
       "      <td>1</td>\n",
       "      <td>80.00</td>\n",
       "      <td>Human Nutrition: 2020  Edition  UNIVERSITY OF ...</td>\n",
       "    </tr>\n",
       "    <tr>\n",
       "      <th>3</th>\n",
       "      <td>-38</td>\n",
       "      <td>212</td>\n",
       "      <td>32</td>\n",
       "      <td>3</td>\n",
       "      <td>53.00</td>\n",
       "      <td>Human Nutrition: 2020 Edition by University of...</td>\n",
       "    </tr>\n",
       "    <tr>\n",
       "      <th>4</th>\n",
       "      <td>-37</td>\n",
       "      <td>797</td>\n",
       "      <td>147</td>\n",
       "      <td>3</td>\n",
       "      <td>199.25</td>\n",
       "      <td>Contents  Preface  University of Hawai‘i at Mā...</td>\n",
       "    </tr>\n",
       "  </tbody>\n",
       "</table>\n",
       "</div>"
      ],
      "text/plain": [
       "   page_number  page_char_count  page_word_count  page_sentence_count_raw  \\\n",
       "0          -41               29                4                        1   \n",
       "1          -40                0                1                        1   \n",
       "2          -39              320               54                        1   \n",
       "3          -38              212               32                        3   \n",
       "4          -37              797              147                        3   \n",
       "\n",
       "   page_token_count                                               text  \n",
       "0              7.25                      Human Nutrition: 2020 Edition  \n",
       "1              0.00                                                     \n",
       "2             80.00  Human Nutrition: 2020  Edition  UNIVERSITY OF ...  \n",
       "3             53.00  Human Nutrition: 2020 Edition by University of...  \n",
       "4            199.25  Contents  Preface  University of Hawai‘i at Mā...  "
      ]
     },
     "execution_count": 4,
     "metadata": {},
     "output_type": "execute_result"
    }
   ],
   "source": [
    "import pandas as pd\n",
    "\n",
    "df = pd.DataFrame(pages_and_texts)\n",
    "df.head()"
   ]
  },
  {
   "cell_type": "code",
   "execution_count": 5,
   "metadata": {},
   "outputs": [
    {
     "data": {
      "text/html": [
       "<div>\n",
       "<style scoped>\n",
       "    .dataframe tbody tr th:only-of-type {\n",
       "        vertical-align: middle;\n",
       "    }\n",
       "\n",
       "    .dataframe tbody tr th {\n",
       "        vertical-align: top;\n",
       "    }\n",
       "\n",
       "    .dataframe thead th {\n",
       "        text-align: right;\n",
       "    }\n",
       "</style>\n",
       "<table border=\"1\" class=\"dataframe\">\n",
       "  <thead>\n",
       "    <tr style=\"text-align: right;\">\n",
       "      <th></th>\n",
       "      <th>page_number</th>\n",
       "      <th>page_char_count</th>\n",
       "      <th>page_word_count</th>\n",
       "      <th>page_sentence_count_raw</th>\n",
       "      <th>page_token_count</th>\n",
       "    </tr>\n",
       "  </thead>\n",
       "  <tbody>\n",
       "    <tr>\n",
       "      <th>count</th>\n",
       "      <td>1208.00</td>\n",
       "      <td>1208.00</td>\n",
       "      <td>1208.00</td>\n",
       "      <td>1208.00</td>\n",
       "      <td>1208.00</td>\n",
       "    </tr>\n",
       "    <tr>\n",
       "      <th>mean</th>\n",
       "      <td>562.50</td>\n",
       "      <td>1148.00</td>\n",
       "      <td>199.50</td>\n",
       "      <td>14.18</td>\n",
       "      <td>287.00</td>\n",
       "    </tr>\n",
       "    <tr>\n",
       "      <th>std</th>\n",
       "      <td>348.86</td>\n",
       "      <td>560.38</td>\n",
       "      <td>95.83</td>\n",
       "      <td>9.54</td>\n",
       "      <td>140.10</td>\n",
       "    </tr>\n",
       "    <tr>\n",
       "      <th>min</th>\n",
       "      <td>-41.00</td>\n",
       "      <td>0.00</td>\n",
       "      <td>1.00</td>\n",
       "      <td>1.00</td>\n",
       "      <td>0.00</td>\n",
       "    </tr>\n",
       "    <tr>\n",
       "      <th>25%</th>\n",
       "      <td>260.75</td>\n",
       "      <td>762.00</td>\n",
       "      <td>134.00</td>\n",
       "      <td>8.00</td>\n",
       "      <td>190.50</td>\n",
       "    </tr>\n",
       "    <tr>\n",
       "      <th>50%</th>\n",
       "      <td>562.50</td>\n",
       "      <td>1231.50</td>\n",
       "      <td>216.00</td>\n",
       "      <td>13.00</td>\n",
       "      <td>307.88</td>\n",
       "    </tr>\n",
       "    <tr>\n",
       "      <th>75%</th>\n",
       "      <td>864.25</td>\n",
       "      <td>1603.50</td>\n",
       "      <td>272.00</td>\n",
       "      <td>19.00</td>\n",
       "      <td>400.88</td>\n",
       "    </tr>\n",
       "    <tr>\n",
       "      <th>max</th>\n",
       "      <td>1166.00</td>\n",
       "      <td>2308.00</td>\n",
       "      <td>430.00</td>\n",
       "      <td>82.00</td>\n",
       "      <td>577.00</td>\n",
       "    </tr>\n",
       "  </tbody>\n",
       "</table>\n",
       "</div>"
      ],
      "text/plain": [
       "       page_number  page_char_count  page_word_count  page_sentence_count_raw  \\\n",
       "count      1208.00          1208.00          1208.00                  1208.00   \n",
       "mean        562.50          1148.00           199.50                    14.18   \n",
       "std         348.86           560.38            95.83                     9.54   \n",
       "min         -41.00             0.00             1.00                     1.00   \n",
       "25%         260.75           762.00           134.00                     8.00   \n",
       "50%         562.50          1231.50           216.00                    13.00   \n",
       "75%         864.25          1603.50           272.00                    19.00   \n",
       "max        1166.00          2308.00           430.00                    82.00   \n",
       "\n",
       "       page_token_count  \n",
       "count           1208.00  \n",
       "mean             287.00  \n",
       "std              140.10  \n",
       "min                0.00  \n",
       "25%              190.50  \n",
       "50%              307.88  \n",
       "75%              400.88  \n",
       "max              577.00  "
      ]
     },
     "execution_count": 5,
     "metadata": {},
     "output_type": "execute_result"
    }
   ],
   "source": [
    "df.describe().round(2)"
   ]
  },
  {
   "cell_type": "markdown",
   "metadata": {},
   "source": [
    "### Further text processing (splitting pages into sentences)\n",
    "\n",
    "Two ways to do this:\n",
    "1. By splitting on `\".\"`.\n",
    "2. We can do this with a NLP library such as spaCY or nltk."
   ]
  },
  {
   "cell_type": "code",
   "execution_count": 6,
   "metadata": {},
   "outputs": [
    {
     "data": {
      "text/plain": [
       "[This is a sentence., This is another sentence.]"
      ]
     },
     "execution_count": 6,
     "metadata": {},
     "output_type": "execute_result"
    }
   ],
   "source": [
    "from spacy.lang.en import English\n",
    "\n",
    "nlp = English()\n",
    "\n",
    "# Add a sentencizer pipeline\n",
    "nlp.add_pipe(\"sentencizer\")\n",
    "\n",
    "# Create document instance as an example\n",
    "doc = nlp(\"This is a sentence. This is another sentence.\")\n",
    "assert len(list(doc.sents)) == 2\n",
    "\n",
    "# Print out our sentences split\n",
    "list(doc.sents)"
   ]
  },
  {
   "cell_type": "code",
   "execution_count": 7,
   "metadata": {},
   "outputs": [
    {
     "data": {
      "text/plain": [
       "[{'page_number': -41,\n",
       "  'page_char_count': 29,\n",
       "  'page_word_count': 4,\n",
       "  'page_sentence_count_raw': 1,\n",
       "  'page_token_count': 7.25,\n",
       "  'text': 'Human Nutrition: 2020 Edition'},\n",
       " {'page_number': -40,\n",
       "  'page_char_count': 0,\n",
       "  'page_word_count': 1,\n",
       "  'page_sentence_count_raw': 1,\n",
       "  'page_token_count': 0.0,\n",
       "  'text': ''}]"
      ]
     },
     "execution_count": 7,
     "metadata": {},
     "output_type": "execute_result"
    }
   ],
   "source": [
    "pages_and_texts[:2]"
   ]
  },
  {
   "cell_type": "code",
   "execution_count": 8,
   "metadata": {},
   "outputs": [
    {
     "data": {
      "application/vnd.jupyter.widget-view+json": {
       "model_id": "1f03ce868ede4ed6aeb6c1ce65658e35",
       "version_major": 2,
       "version_minor": 0
      },
      "text/plain": [
       "  0%|          | 0/1208 [00:00<?, ?it/s]"
      ]
     },
     "metadata": {},
     "output_type": "display_data"
    }
   ],
   "source": [
    "for item in tqdm(pages_and_texts):\n",
    "    item[\"sentences\"] = list(nlp(item[\"text\"]).sents)\n",
    "\n",
    "    # Make sure all sentences are strings (default type is spaCY datatype)\n",
    "    item[\"sentences\"] = [str(sentence) for sentence in item[\"sentences\"]]\n",
    "\n",
    "    # Count the sentences\n",
    "    item[\"page_sentence_count_spacy\"] = len(item[\"sentences\"])"
   ]
  },
  {
   "cell_type": "code",
   "execution_count": 9,
   "metadata": {},
   "outputs": [
    {
     "data": {
      "text/plain": [
       "[{'page_number': 799,\n",
       "  'page_char_count': 1524,\n",
       "  'page_word_count': 259,\n",
       "  'page_sentence_count_raw': 23,\n",
       "  'page_token_count': 381.0,\n",
       "  'text': 'over-the-counter painkillers. Some studies suggest that very high  amounts of caffeine have been linked to babies born with low birth  weights. The American Journal of Obstetrics and Gynecology  released a report, which found that women who consume 200  milligrams or more of caffeine a day (which is the amount in 10  ounces of coffee or 25 ounces of tea) increase the risk of  miscarriage7.  Consuming large quantities of caffeine affects the pregnant  mother as well, leading to irritability, anxiety, and insomnia. Most  experts agree that small amounts of caffeine each day are safe  (about one 8-ounce cup of coffee a day or less)8. However, that  amount should not be exceeded.  Foodborne Illness  For both mother and child, foodborne illness can cause major health  problems. For example, the foodborne illness caused by the bacteria  Listeria monocytogenes can cause spontaneous abortion and fetal  or newborn meningitis. According to the CDC, pregnant women  are twenty times more likely to become infected with this disease,  which is known as listeriosis, than nonpregnant, healthy adults.  Symptoms include headaches, muscle aches, nausea, vomiting, and  7. Weng X, Odouli R, Li DK. (2008). Maternal caffeine  consumption during pregnancy and the risk of  miscarriage: a prospective cohort study. American  Journal of Obstetrics & Gynecology, 198, 279.e1-279.e8.  8. American Medical Association. (2008). Complete Guide to  Prevention and Wellness. Hoboken, NJ: John Wiley &  Sons, Inc., 495.  Pregnancy  |  799',\n",
       "  'sentences': ['over-the-counter painkillers.',\n",
       "   'Some studies suggest that very high  amounts of caffeine have been linked to babies born with low birth  weights.',\n",
       "   'The American Journal of Obstetrics and Gynecology  released a report, which found that women who consume 200  milligrams or more of caffeine a day (which is the amount in 10  ounces of coffee or 25 ounces of tea) increase the risk of  miscarriage7.',\n",
       "   ' Consuming large quantities of caffeine affects the pregnant  mother as well, leading to irritability, anxiety, and insomnia.',\n",
       "   'Most  experts agree that small amounts of caffeine each day are safe  (about one 8-ounce cup of coffee a day or less)8.',\n",
       "   'However, that  amount should not be exceeded.',\n",
       "   ' Foodborne Illness  For both mother and child, foodborne illness can cause major health  problems.',\n",
       "   'For example, the foodborne illness caused by the bacteria  Listeria monocytogenes can cause spontaneous abortion and fetal  or newborn meningitis.',\n",
       "   'According to the CDC, pregnant women  are twenty times more likely to become infected with this disease,  which is known as listeriosis, than nonpregnant, healthy adults.',\n",
       "   ' Symptoms include headaches, muscle aches, nausea, vomiting, and  7.',\n",
       "   'Weng X, Odouli R, Li DK. (',\n",
       "   '2008).',\n",
       "   'Maternal caffeine  consumption during pregnancy and the risk of  miscarriage: a prospective cohort study.',\n",
       "   'American  Journal of Obstetrics & Gynecology, 198, 279.e1-279.e8.',\n",
       "   ' 8.',\n",
       "   'American Medical Association. (',\n",
       "   '2008).',\n",
       "   'Complete Guide to  Prevention and Wellness.',\n",
       "   'Hoboken, NJ: John Wiley &  Sons, Inc., 495.',\n",
       "   ' Pregnancy  |  799'],\n",
       "  'page_sentence_count_spacy': 20}]"
      ]
     },
     "execution_count": 9,
     "metadata": {},
     "output_type": "execute_result"
    }
   ],
   "source": [
    "random.sample(pages_and_texts, k=1)"
   ]
  },
  {
   "cell_type": "code",
   "execution_count": 10,
   "metadata": {},
   "outputs": [
    {
     "data": {
      "text/html": [
       "<div>\n",
       "<style scoped>\n",
       "    .dataframe tbody tr th:only-of-type {\n",
       "        vertical-align: middle;\n",
       "    }\n",
       "\n",
       "    .dataframe tbody tr th {\n",
       "        vertical-align: top;\n",
       "    }\n",
       "\n",
       "    .dataframe thead th {\n",
       "        text-align: right;\n",
       "    }\n",
       "</style>\n",
       "<table border=\"1\" class=\"dataframe\">\n",
       "  <thead>\n",
       "    <tr style=\"text-align: right;\">\n",
       "      <th></th>\n",
       "      <th>page_number</th>\n",
       "      <th>page_char_count</th>\n",
       "      <th>page_word_count</th>\n",
       "      <th>page_sentence_count_raw</th>\n",
       "      <th>page_token_count</th>\n",
       "      <th>page_sentence_count_spacy</th>\n",
       "    </tr>\n",
       "  </thead>\n",
       "  <tbody>\n",
       "    <tr>\n",
       "      <th>count</th>\n",
       "      <td>1208.00</td>\n",
       "      <td>1208.00</td>\n",
       "      <td>1208.00</td>\n",
       "      <td>1208.00</td>\n",
       "      <td>1208.00</td>\n",
       "      <td>1208.00</td>\n",
       "    </tr>\n",
       "    <tr>\n",
       "      <th>mean</th>\n",
       "      <td>562.50</td>\n",
       "      <td>1148.00</td>\n",
       "      <td>199.50</td>\n",
       "      <td>14.18</td>\n",
       "      <td>287.00</td>\n",
       "      <td>10.32</td>\n",
       "    </tr>\n",
       "    <tr>\n",
       "      <th>std</th>\n",
       "      <td>348.86</td>\n",
       "      <td>560.38</td>\n",
       "      <td>95.83</td>\n",
       "      <td>9.54</td>\n",
       "      <td>140.10</td>\n",
       "      <td>6.30</td>\n",
       "    </tr>\n",
       "    <tr>\n",
       "      <th>min</th>\n",
       "      <td>-41.00</td>\n",
       "      <td>0.00</td>\n",
       "      <td>1.00</td>\n",
       "      <td>1.00</td>\n",
       "      <td>0.00</td>\n",
       "      <td>0.00</td>\n",
       "    </tr>\n",
       "    <tr>\n",
       "      <th>25%</th>\n",
       "      <td>260.75</td>\n",
       "      <td>762.00</td>\n",
       "      <td>134.00</td>\n",
       "      <td>8.00</td>\n",
       "      <td>190.50</td>\n",
       "      <td>5.00</td>\n",
       "    </tr>\n",
       "    <tr>\n",
       "      <th>50%</th>\n",
       "      <td>562.50</td>\n",
       "      <td>1231.50</td>\n",
       "      <td>216.00</td>\n",
       "      <td>13.00</td>\n",
       "      <td>307.88</td>\n",
       "      <td>10.00</td>\n",
       "    </tr>\n",
       "    <tr>\n",
       "      <th>75%</th>\n",
       "      <td>864.25</td>\n",
       "      <td>1603.50</td>\n",
       "      <td>272.00</td>\n",
       "      <td>19.00</td>\n",
       "      <td>400.88</td>\n",
       "      <td>15.00</td>\n",
       "    </tr>\n",
       "    <tr>\n",
       "      <th>max</th>\n",
       "      <td>1166.00</td>\n",
       "      <td>2308.00</td>\n",
       "      <td>430.00</td>\n",
       "      <td>82.00</td>\n",
       "      <td>577.00</td>\n",
       "      <td>28.00</td>\n",
       "    </tr>\n",
       "  </tbody>\n",
       "</table>\n",
       "</div>"
      ],
      "text/plain": [
       "       page_number  page_char_count  page_word_count  page_sentence_count_raw  \\\n",
       "count      1208.00          1208.00          1208.00                  1208.00   \n",
       "mean        562.50          1148.00           199.50                    14.18   \n",
       "std         348.86           560.38            95.83                     9.54   \n",
       "min         -41.00             0.00             1.00                     1.00   \n",
       "25%         260.75           762.00           134.00                     8.00   \n",
       "50%         562.50          1231.50           216.00                    13.00   \n",
       "75%         864.25          1603.50           272.00                    19.00   \n",
       "max        1166.00          2308.00           430.00                    82.00   \n",
       "\n",
       "       page_token_count  page_sentence_count_spacy  \n",
       "count           1208.00                    1208.00  \n",
       "mean             287.00                      10.32  \n",
       "std              140.10                       6.30  \n",
       "min                0.00                       0.00  \n",
       "25%              190.50                       5.00  \n",
       "50%              307.88                      10.00  \n",
       "75%              400.88                      15.00  \n",
       "max              577.00                      28.00  "
      ]
     },
     "execution_count": 10,
     "metadata": {},
     "output_type": "execute_result"
    }
   ],
   "source": [
    "df = pd.DataFrame(pages_and_texts)\n",
    "df.describe().round(2)"
   ]
  },
  {
   "cell_type": "markdown",
   "metadata": {},
   "source": [
    "### Chunking our sentences together"
   ]
  },
  {
   "cell_type": "code",
   "execution_count": 11,
   "metadata": {},
   "outputs": [
    {
     "data": {
      "text/plain": [
       "[[0, 1, 2, 3, 4, 5, 6, 7, 8, 9],\n",
       " [10, 11, 12, 13, 14, 15, 16, 17, 18, 19],\n",
       " [20, 21, 22, 23, 24]]"
      ]
     },
     "execution_count": 11,
     "metadata": {},
     "output_type": "execute_result"
    }
   ],
   "source": [
    "# Define split size to turn groups of sentences into chunks\n",
    "num_sentence_chunk_size = 10\n",
    "\n",
    "def split_list(input_list: list[str],\n",
    "               slice_size: int=num_sentence_chunk_size) -> list[list[str]]:\n",
    "    return [input_list[i:i + slice_size] for i in range(0, len(input_list), slice_size)]\n",
    "\n",
    "test_list = list(range(25))\n",
    "split_list(test_list)"
   ]
  },
  {
   "cell_type": "code",
   "execution_count": 12,
   "metadata": {},
   "outputs": [
    {
     "data": {
      "application/vnd.jupyter.widget-view+json": {
       "model_id": "d8210a540e874308a667827ba8375686",
       "version_major": 2,
       "version_minor": 0
      },
      "text/plain": [
       "  0%|          | 0/1208 [00:00<?, ?it/s]"
      ]
     },
     "metadata": {},
     "output_type": "display_data"
    }
   ],
   "source": [
    "# Loop through pages and text, and split sentences into chunks\n",
    "for item in tqdm(pages_and_texts):\n",
    "    item[\"sentence_chunks\"] = split_list(input_list=item[\"sentences\"],\n",
    "                                        slice_size=num_sentence_chunk_size)\n",
    "    item[\"num_chunks\"] = len(item[\"sentence_chunks\"])"
   ]
  },
  {
   "cell_type": "code",
   "execution_count": 13,
   "metadata": {},
   "outputs": [
    {
     "data": {
      "text/plain": [
       "[{'page_number': 178,\n",
       "  'page_char_count': 1724,\n",
       "  'page_word_count': 307,\n",
       "  'page_sentence_count_raw': 25,\n",
       "  'page_token_count': 431.0,\n",
       "  'text': 'can be avoided by drinking the correct amount of water, which is  about 1 cup every twenty minutes during the event. Sports drinks  are better at restoring fluid and blood-glucose levels than replacing  electrolytes. During an endurance event you would be better off  drinking water and eating an energy bar that contains sugars,  proteins, and electrolytes. The American College of Sports Medicine  suggests if you are exercising for longer than one hour you eat one  high carbohydrate (25–40 grams) per hour of exercise along with  ample water.1  Watch out for the fat content, as sometimes energy bars contain  a hefty dose. If you’re not exercising over an hour at high intensity,  you can skip the sports drinks, but not the water. For those who do  not exercise or do so at low to moderate intensity, sports drinks are  another source of extra calories, sugar, and salt.  Needs and Dietary Sources of Sodium  The IOM has set an AI level for sodium for healthy adults between  the ages of nineteen and fifty at 1,500 milligrams (Table 3.2 “Dietary  Reference Intakes for Sodium”). Table salt is approximately 40  percent sodium and 60 percent chloride. As a reference point, only  ⅔ teaspoon of salt is needed in the diet to meet the AI for sodium.  The AI takes into account the amount of sodium lost in sweat during  recommended physical activity levels and additionally provides for  the sufficient intake of other nutrients, such as chloride. The  1. Convertino VA, et al. (1996). American College of Sports  Medicine Position Stand. Exercise and Fluid  Replacement. Medicine and Science in Sports and  Exercise, 28(1) i–vii. http://www.ncbi.nlm.nih.gov/ pubmed/9303999. Accessed September 22, 2017.  178  |  Sodium',\n",
       "  'sentences': ['can be avoided by drinking the correct amount of water, which is  about 1 cup every twenty minutes during the event.',\n",
       "   'Sports drinks  are better at restoring fluid and blood-glucose levels than replacing  electrolytes.',\n",
       "   'During an endurance event you would be better off  drinking water and eating an energy bar that contains sugars,  proteins, and electrolytes.',\n",
       "   'The American College of Sports Medicine  suggests if you are exercising for longer than one hour you eat one  high carbohydrate (25–40 grams) per hour of exercise along with  ample water.1  Watch out for the fat content, as sometimes energy bars contain  a hefty dose.',\n",
       "   'If you’re not exercising over an hour at high intensity,  you can skip the sports drinks, but not the water.',\n",
       "   'For those who do  not exercise or do so at low to moderate intensity, sports drinks are  another source of extra calories, sugar, and salt.',\n",
       "   ' Needs and Dietary Sources of Sodium  The IOM has set an AI level for sodium for healthy adults between  the ages of nineteen and fifty at 1,500 milligrams (Table 3.2 “Dietary  Reference Intakes for Sodium”).',\n",
       "   'Table salt is approximately 40  percent sodium and 60 percent chloride.',\n",
       "   'As a reference point, only  ⅔ teaspoon of salt is needed in the diet to meet the AI for sodium.',\n",
       "   ' The AI takes into account the amount of sodium lost in sweat during  recommended physical activity levels and additionally provides for  the sufficient intake of other nutrients, such as chloride.',\n",
       "   'The  1.',\n",
       "   'Convertino VA, et al. (',\n",
       "   '1996).',\n",
       "   'American College of Sports  Medicine Position Stand.',\n",
       "   'Exercise and Fluid  Replacement.',\n",
       "   'Medicine and Science in Sports and  Exercise, 28(1) i–vii.',\n",
       "   'http://www.ncbi.nlm.nih.gov/ pubmed/9303999.',\n",
       "   'Accessed September 22, 2017.',\n",
       "   ' 178  |  Sodium'],\n",
       "  'page_sentence_count_spacy': 19,\n",
       "  'sentence_chunks': [['can be avoided by drinking the correct amount of water, which is  about 1 cup every twenty minutes during the event.',\n",
       "    'Sports drinks  are better at restoring fluid and blood-glucose levels than replacing  electrolytes.',\n",
       "    'During an endurance event you would be better off  drinking water and eating an energy bar that contains sugars,  proteins, and electrolytes.',\n",
       "    'The American College of Sports Medicine  suggests if you are exercising for longer than one hour you eat one  high carbohydrate (25–40 grams) per hour of exercise along with  ample water.1  Watch out for the fat content, as sometimes energy bars contain  a hefty dose.',\n",
       "    'If you’re not exercising over an hour at high intensity,  you can skip the sports drinks, but not the water.',\n",
       "    'For those who do  not exercise or do so at low to moderate intensity, sports drinks are  another source of extra calories, sugar, and salt.',\n",
       "    ' Needs and Dietary Sources of Sodium  The IOM has set an AI level for sodium for healthy adults between  the ages of nineteen and fifty at 1,500 milligrams (Table 3.2 “Dietary  Reference Intakes for Sodium”).',\n",
       "    'Table salt is approximately 40  percent sodium and 60 percent chloride.',\n",
       "    'As a reference point, only  ⅔ teaspoon of salt is needed in the diet to meet the AI for sodium.',\n",
       "    ' The AI takes into account the amount of sodium lost in sweat during  recommended physical activity levels and additionally provides for  the sufficient intake of other nutrients, such as chloride.'],\n",
       "   ['The  1.',\n",
       "    'Convertino VA, et al. (',\n",
       "    '1996).',\n",
       "    'American College of Sports  Medicine Position Stand.',\n",
       "    'Exercise and Fluid  Replacement.',\n",
       "    'Medicine and Science in Sports and  Exercise, 28(1) i–vii.',\n",
       "    'http://www.ncbi.nlm.nih.gov/ pubmed/9303999.',\n",
       "    'Accessed September 22, 2017.',\n",
       "    ' 178  |  Sodium']],\n",
       "  'num_chunks': 2}]"
      ]
     },
     "execution_count": 13,
     "metadata": {},
     "output_type": "execute_result"
    }
   ],
   "source": [
    "random.sample(pages_and_texts, k=1)"
   ]
  },
  {
   "cell_type": "code",
   "execution_count": 14,
   "metadata": {},
   "outputs": [
    {
     "data": {
      "text/html": [
       "<div>\n",
       "<style scoped>\n",
       "    .dataframe tbody tr th:only-of-type {\n",
       "        vertical-align: middle;\n",
       "    }\n",
       "\n",
       "    .dataframe tbody tr th {\n",
       "        vertical-align: top;\n",
       "    }\n",
       "\n",
       "    .dataframe thead th {\n",
       "        text-align: right;\n",
       "    }\n",
       "</style>\n",
       "<table border=\"1\" class=\"dataframe\">\n",
       "  <thead>\n",
       "    <tr style=\"text-align: right;\">\n",
       "      <th></th>\n",
       "      <th>page_number</th>\n",
       "      <th>page_char_count</th>\n",
       "      <th>page_word_count</th>\n",
       "      <th>page_sentence_count_raw</th>\n",
       "      <th>page_token_count</th>\n",
       "      <th>page_sentence_count_spacy</th>\n",
       "      <th>num_chunks</th>\n",
       "    </tr>\n",
       "  </thead>\n",
       "  <tbody>\n",
       "    <tr>\n",
       "      <th>count</th>\n",
       "      <td>1208.00</td>\n",
       "      <td>1208.00</td>\n",
       "      <td>1208.00</td>\n",
       "      <td>1208.00</td>\n",
       "      <td>1208.00</td>\n",
       "      <td>1208.00</td>\n",
       "      <td>1208.00</td>\n",
       "    </tr>\n",
       "    <tr>\n",
       "      <th>mean</th>\n",
       "      <td>562.50</td>\n",
       "      <td>1148.00</td>\n",
       "      <td>199.50</td>\n",
       "      <td>14.18</td>\n",
       "      <td>287.00</td>\n",
       "      <td>10.32</td>\n",
       "      <td>1.53</td>\n",
       "    </tr>\n",
       "    <tr>\n",
       "      <th>std</th>\n",
       "      <td>348.86</td>\n",
       "      <td>560.38</td>\n",
       "      <td>95.83</td>\n",
       "      <td>9.54</td>\n",
       "      <td>140.10</td>\n",
       "      <td>6.30</td>\n",
       "      <td>0.64</td>\n",
       "    </tr>\n",
       "    <tr>\n",
       "      <th>min</th>\n",
       "      <td>-41.00</td>\n",
       "      <td>0.00</td>\n",
       "      <td>1.00</td>\n",
       "      <td>1.00</td>\n",
       "      <td>0.00</td>\n",
       "      <td>0.00</td>\n",
       "      <td>0.00</td>\n",
       "    </tr>\n",
       "    <tr>\n",
       "      <th>25%</th>\n",
       "      <td>260.75</td>\n",
       "      <td>762.00</td>\n",
       "      <td>134.00</td>\n",
       "      <td>8.00</td>\n",
       "      <td>190.50</td>\n",
       "      <td>5.00</td>\n",
       "      <td>1.00</td>\n",
       "    </tr>\n",
       "    <tr>\n",
       "      <th>50%</th>\n",
       "      <td>562.50</td>\n",
       "      <td>1231.50</td>\n",
       "      <td>216.00</td>\n",
       "      <td>13.00</td>\n",
       "      <td>307.88</td>\n",
       "      <td>10.00</td>\n",
       "      <td>1.00</td>\n",
       "    </tr>\n",
       "    <tr>\n",
       "      <th>75%</th>\n",
       "      <td>864.25</td>\n",
       "      <td>1603.50</td>\n",
       "      <td>272.00</td>\n",
       "      <td>19.00</td>\n",
       "      <td>400.88</td>\n",
       "      <td>15.00</td>\n",
       "      <td>2.00</td>\n",
       "    </tr>\n",
       "    <tr>\n",
       "      <th>max</th>\n",
       "      <td>1166.00</td>\n",
       "      <td>2308.00</td>\n",
       "      <td>430.00</td>\n",
       "      <td>82.00</td>\n",
       "      <td>577.00</td>\n",
       "      <td>28.00</td>\n",
       "      <td>3.00</td>\n",
       "    </tr>\n",
       "  </tbody>\n",
       "</table>\n",
       "</div>"
      ],
      "text/plain": [
       "       page_number  page_char_count  page_word_count  page_sentence_count_raw  \\\n",
       "count      1208.00          1208.00          1208.00                  1208.00   \n",
       "mean        562.50          1148.00           199.50                    14.18   \n",
       "std         348.86           560.38            95.83                     9.54   \n",
       "min         -41.00             0.00             1.00                     1.00   \n",
       "25%         260.75           762.00           134.00                     8.00   \n",
       "50%         562.50          1231.50           216.00                    13.00   \n",
       "75%         864.25          1603.50           272.00                    19.00   \n",
       "max        1166.00          2308.00           430.00                    82.00   \n",
       "\n",
       "       page_token_count  page_sentence_count_spacy  num_chunks  \n",
       "count           1208.00                    1208.00     1208.00  \n",
       "mean             287.00                      10.32        1.53  \n",
       "std              140.10                       6.30        0.64  \n",
       "min                0.00                       0.00        0.00  \n",
       "25%              190.50                       5.00        1.00  \n",
       "50%              307.88                      10.00        1.00  \n",
       "75%              400.88                      15.00        2.00  \n",
       "max              577.00                      28.00        3.00  "
      ]
     },
     "execution_count": 14,
     "metadata": {},
     "output_type": "execute_result"
    }
   ],
   "source": [
    "df = pd.DataFrame(pages_and_texts)\n",
    "df.describe().round(2)"
   ]
  },
  {
   "cell_type": "markdown",
   "metadata": {},
   "source": [
    "### Splitting each chunk into its own item"
   ]
  },
  {
   "cell_type": "code",
   "execution_count": 15,
   "metadata": {},
   "outputs": [
    {
     "data": {
      "application/vnd.jupyter.widget-view+json": {
       "model_id": "d03149d4323947cf9d19e569aeebb11d",
       "version_major": 2,
       "version_minor": 0
      },
      "text/plain": [
       "  0%|          | 0/1208 [00:00<?, ?it/s]"
      ]
     },
     "metadata": {},
     "output_type": "display_data"
    },
    {
     "data": {
      "text/plain": [
       "1843"
      ]
     },
     "execution_count": 15,
     "metadata": {},
     "output_type": "execute_result"
    }
   ],
   "source": [
    "import re\n",
    "\n",
    "# Split each chunk into its own item\n",
    "pages_and_chunks = []\n",
    "for item in tqdm(pages_and_texts):\n",
    "    for sentence_chunk in item[\"sentence_chunks\"]:\n",
    "        chunk_dict = {}\n",
    "        chunk_dict[\"page_number\"] = item[\"page_number\"]\n",
    "\n",
    "        # Join the sentences together into a paragraph like structure, aka join the list of sentences into one paragraph\n",
    "        joined_sentence_chunk = \"\".join(sentence_chunk).replace(\"  \", \" \").strip()\n",
    "        joined_sentence_chunk = re.sub(r'\\.([A-Z])', r'. \\1', joined_sentence_chunk) # \".A\" => \". A\" (will work for any uppercase letter)\n",
    "\n",
    "        chunk_dict[\"sentence_chunk\"] = joined_sentence_chunk\n",
    "\n",
    "        # Get some stats on our chunks\n",
    "        chunk_dict[\"chunk_char_count\"] = len(joined_sentence_chunk)\n",
    "        chunk_dict[\"chunk_word_count\"] = len([word for word in joined_sentence_chunk.split(\" \")])\n",
    "        chunk_dict[\"chunk_token_count\"] = len(joined_sentence_chunk) / 4 # 1 token ~4 chars\n",
    "\n",
    "        pages_and_chunks.append(chunk_dict)\n",
    "\n",
    "len(pages_and_chunks)"
   ]
  },
  {
   "cell_type": "code",
   "execution_count": 16,
   "metadata": {},
   "outputs": [
    {
     "data": {
      "text/plain": [
       "[{'page_number': 597,\n",
       "  'sentence_chunk': 'Sources of Free Radicals in the Environment Substances and energy sources from the environment can add to or accelerate the production of free radicals within the body. Exposure The Body’s Offense | 597',\n",
       "  'chunk_char_count': 202,\n",
       "  'chunk_word_count': 33,\n",
       "  'chunk_token_count': 50.5}]"
      ]
     },
     "execution_count": 16,
     "metadata": {},
     "output_type": "execute_result"
    }
   ],
   "source": [
    "random.sample(pages_and_chunks, k=1)"
   ]
  },
  {
   "cell_type": "code",
   "execution_count": 17,
   "metadata": {},
   "outputs": [
    {
     "data": {
      "text/html": [
       "<div>\n",
       "<style scoped>\n",
       "    .dataframe tbody tr th:only-of-type {\n",
       "        vertical-align: middle;\n",
       "    }\n",
       "\n",
       "    .dataframe tbody tr th {\n",
       "        vertical-align: top;\n",
       "    }\n",
       "\n",
       "    .dataframe thead th {\n",
       "        text-align: right;\n",
       "    }\n",
       "</style>\n",
       "<table border=\"1\" class=\"dataframe\">\n",
       "  <thead>\n",
       "    <tr style=\"text-align: right;\">\n",
       "      <th></th>\n",
       "      <th>page_number</th>\n",
       "      <th>chunk_char_count</th>\n",
       "      <th>chunk_word_count</th>\n",
       "      <th>chunk_token_count</th>\n",
       "    </tr>\n",
       "  </thead>\n",
       "  <tbody>\n",
       "    <tr>\n",
       "      <th>count</th>\n",
       "      <td>1843.00</td>\n",
       "      <td>1843.00</td>\n",
       "      <td>1843.00</td>\n",
       "      <td>1843.00</td>\n",
       "    </tr>\n",
       "    <tr>\n",
       "      <th>mean</th>\n",
       "      <td>583.38</td>\n",
       "      <td>734.10</td>\n",
       "      <td>112.74</td>\n",
       "      <td>183.52</td>\n",
       "    </tr>\n",
       "    <tr>\n",
       "      <th>std</th>\n",
       "      <td>347.79</td>\n",
       "      <td>447.51</td>\n",
       "      <td>71.24</td>\n",
       "      <td>111.88</td>\n",
       "    </tr>\n",
       "    <tr>\n",
       "      <th>min</th>\n",
       "      <td>-41.00</td>\n",
       "      <td>12.00</td>\n",
       "      <td>3.00</td>\n",
       "      <td>3.00</td>\n",
       "    </tr>\n",
       "    <tr>\n",
       "      <th>25%</th>\n",
       "      <td>280.50</td>\n",
       "      <td>315.00</td>\n",
       "      <td>45.00</td>\n",
       "      <td>78.75</td>\n",
       "    </tr>\n",
       "    <tr>\n",
       "      <th>50%</th>\n",
       "      <td>586.00</td>\n",
       "      <td>745.00</td>\n",
       "      <td>115.00</td>\n",
       "      <td>186.25</td>\n",
       "    </tr>\n",
       "    <tr>\n",
       "      <th>75%</th>\n",
       "      <td>890.00</td>\n",
       "      <td>1118.00</td>\n",
       "      <td>173.00</td>\n",
       "      <td>279.50</td>\n",
       "    </tr>\n",
       "    <tr>\n",
       "      <th>max</th>\n",
       "      <td>1166.00</td>\n",
       "      <td>1830.00</td>\n",
       "      <td>297.00</td>\n",
       "      <td>457.50</td>\n",
       "    </tr>\n",
       "  </tbody>\n",
       "</table>\n",
       "</div>"
      ],
      "text/plain": [
       "       page_number  chunk_char_count  chunk_word_count  chunk_token_count\n",
       "count      1843.00           1843.00           1843.00            1843.00\n",
       "mean        583.38            734.10            112.74             183.52\n",
       "std         347.79            447.51             71.24             111.88\n",
       "min         -41.00             12.00              3.00               3.00\n",
       "25%         280.50            315.00             45.00              78.75\n",
       "50%         586.00            745.00            115.00             186.25\n",
       "75%         890.00           1118.00            173.00             279.50\n",
       "max        1166.00           1830.00            297.00             457.50"
      ]
     },
     "execution_count": 17,
     "metadata": {},
     "output_type": "execute_result"
    }
   ],
   "source": [
    "df = pd.DataFrame(pages_and_chunks)\n",
    "df.describe().round(2)"
   ]
  },
  {
   "cell_type": "markdown",
   "metadata": {},
   "source": [
    "### Filter chunks of text for short chunks\n",
    "\n",
    "These chunks may not contain much useful information"
   ]
  },
  {
   "cell_type": "code",
   "execution_count": 18,
   "metadata": {},
   "outputs": [
    {
     "name": "stdout",
     "output_type": "stream",
     "text": [
      "Chunk token count: 28.75 | Text: Image by FDA/ Changes to the Nutrition Facts Label Figure 12.5 Food Serving Sizes 728 | Discovering Nutrition Facts\n",
      "Chunk token count: 13.25 | Text: https://doi.org/10.1186/ 1743-7075-4-24. Sulfur | 637\n",
      "Chunk token count: 9.25 | Text: PART XIX APPENDICES Appendices | 1149\n",
      "Chunk token count: 24.25 | Text: http://pressbooks.oer.hawaii.edu/ humannutrition2/?p=225 330 | Digestion and Absorption of Lipids\n",
      "Chunk token count: 24.75 | Text: Free radical reactions can continue unchecked unless stopped by a defense mechanism. The Atom | 461\n"
     ]
    }
   ],
   "source": [
    "# Show random chunks with under 30 tokens in length\n",
    "min_token_length = 30\n",
    "for row in df[df[\"chunk_token_count\"] <= min_token_length].sample(5).iterrows():\n",
    "    print(f'Chunk token count: {row[1][\"chunk_token_count\"]} | Text: {row[1][\"sentence_chunk\"]}')"
   ]
  },
  {
   "cell_type": "code",
   "execution_count": 19,
   "metadata": {},
   "outputs": [
    {
     "data": {
      "text/plain": [
       "[{'page_number': -39,\n",
       "  'sentence_chunk': 'Human Nutrition: 2020 Edition UNIVERSITY OF HAWAI‘I AT MĀNOA FOOD SCIENCE AND HUMAN NUTRITION PROGRAM ALAN TITCHENAL, SKYLAR HARA, NOEMI ARCEO CAACBAY, WILLIAM MEINKE-LAU, YA-YUN YANG, MARIE KAINOA FIALKOWSKI REVILLA, JENNIFER DRAPER, GEMADY LANGFELDER, CHERYL GIBBY, CHYNA NICOLE CHUN, AND ALLISON CALABRESE',\n",
       "  'chunk_char_count': 308,\n",
       "  'chunk_word_count': 42,\n",
       "  'chunk_token_count': 77.0},\n",
       " {'page_number': -38,\n",
       "  'sentence_chunk': 'Human Nutrition: 2020 Edition by University of Hawai‘i at Mānoa Food Science and Human Nutrition Program is licensed under a Creative Commons Attribution 4.0 International License, except where otherwise noted.',\n",
       "  'chunk_char_count': 210,\n",
       "  'chunk_word_count': 30,\n",
       "  'chunk_token_count': 52.5}]"
      ]
     },
     "execution_count": 19,
     "metadata": {},
     "output_type": "execute_result"
    }
   ],
   "source": [
    "# Filter our DF for rows with under 30 tokens\n",
    "pages_and_chunks_over_min_token_len = df[df[\"chunk_token_count\"] > min_token_length].to_dict(orient=\"records\")\n",
    "pages_and_chunks_over_min_token_len[:2]"
   ]
  },
  {
   "cell_type": "code",
   "execution_count": 20,
   "metadata": {},
   "outputs": [
    {
     "data": {
      "text/plain": [
       "[{'page_number': 169,\n",
       "  'sentence_chunk': 'the muscle tissue surrounding the arteries) to rapidly restore blood volume and, consequently, pressure. The Hypothalamus Detects Blood Osmolality Sodium and fluid balance are intertwined. Osmoreceptors (specialized protein receptors) in the hypothalamus detect sodium concentration in the blood. In response to a high sodium level, the hypothalamus activates the thirst mechanism and concurrently stimulates the release of antidiuretic hormone. Thus, it is not only kidneys that stimulate antidiuretic- hormone release, but also the hypothalamus. This dual control of antidiuretic hormone release allows for the body to respond to both decreased blood volume and increased blood osmolality. The Adrenal Glands Detect Blood Osmolality Cells in the adrenal glands sense when sodium levels are low and potassium levels are high in the blood. In response to either stimulus, they release aldosterone. Aldosterone is released in response to angiotensin stimulation and is controlled by blood electrolyte concentrations. In either case, aldosterone communicates the same message, to increase sodium reabsorption and consequently water reabsorption.',\n",
       "  'chunk_char_count': 1143,\n",
       "  'chunk_word_count': 160,\n",
       "  'chunk_token_count': 285.75}]"
      ]
     },
     "execution_count": 20,
     "metadata": {},
     "output_type": "execute_result"
    }
   ],
   "source": [
    "random.sample(pages_and_chunks_over_min_token_len, k=1)"
   ]
  },
  {
   "cell_type": "markdown",
   "metadata": {},
   "source": [
    "### Embedding our text chunks"
   ]
  },
  {
   "cell_type": "code",
   "execution_count": 21,
   "metadata": {},
   "outputs": [
    {
     "name": "stderr",
     "output_type": "stream",
     "text": [
      "C:\\Users\\devel\\Work\\AIMLDS\\simple-local-rag\\venv\\Lib\\site-packages\\huggingface_hub\\file_download.py:1132: FutureWarning: `resume_download` is deprecated and will be removed in version 1.0.0. Downloads always resume when possible. If you want to force a new download, use `force_download=True`.\n",
      "  warnings.warn(\n",
      "C:\\Users\\devel\\Work\\AIMLDS\\simple-local-rag\\venv\\Lib\\site-packages\\huggingface_hub\\file_download.py:1132: FutureWarning: `resume_download` is deprecated and will be removed in version 1.0.0. Downloads always resume when possible. If you want to force a new download, use `force_download=True`.\n",
      "  warnings.warn(\n"
     ]
    },
    {
     "name": "stdout",
     "output_type": "stream",
     "text": [
      "Sentece: Learning Activities Technology Note: The second edition of the Human Nutrition Open Educational Resource (OER) textbook features interactive learning activities\n",
      "Embedding: [-3.04869073e-03 -5.04321009e-02  3.28285460e-05 -4.17669751e-02\n",
      "  2.43278388e-02  4.45254929e-02  2.30051205e-02  4.34296392e-02\n",
      "  5.52819073e-02 -1.17314244e-02  2.55363639e-02  5.15292399e-04\n",
      "  7.15017784e-03  1.28226485e-02 -1.03462450e-02 -6.01724535e-02\n",
      "  7.26220012e-03  2.78440509e-02 -2.65388135e-02  3.83527800e-02\n",
      " -3.79710388e-03  1.12740379e-02 -5.53640835e-02  2.00721305e-02\n",
      " -9.69741214e-03  3.75270285e-03 -2.41694357e-02  7.56419124e-03\n",
      "  9.71736945e-03 -8.09573010e-02  4.51820623e-03  3.78629752e-02\n",
      " -1.64126009e-02 -3.07473708e-02  1.90306287e-06 -2.45039444e-02\n",
      " -2.88355574e-02  5.79970852e-02 -9.41525847e-02  2.38348190e-02\n",
      "  8.19078088e-02  6.08036593e-02 -7.63305975e-03 -1.21022738e-03\n",
      "  1.66139621e-02  5.39150201e-02  7.20746070e-02  1.96702965e-02\n",
      " -3.61063741e-02 -2.26881728e-02  6.36737980e-03  5.10218693e-03\n",
      " -1.40899960e-02  5.22939209e-03  4.25000526e-02  6.47251979e-02\n",
      " -2.76533067e-02  8.72277096e-02  1.05491146e-01  1.38289528e-02\n",
      "  2.52666753e-02  1.26674743e-02 -5.60930558e-03  9.48030129e-03\n",
      "  1.84023920e-02  4.52102944e-02  2.21599657e-02 -3.99761125e-02\n",
      "  2.21999735e-02  3.97773273e-02  6.92930967e-02  5.27173318e-02\n",
      " -1.20504955e-02  4.09105280e-03  1.55217182e-02  7.14172199e-02\n",
      " -5.35610504e-02 -2.25603264e-02 -1.63715128e-02  1.58081837e-02\n",
      " -8.41319468e-03 -1.90518424e-02 -1.75820235e-02  9.27914586e-03\n",
      "  6.97697327e-02 -9.35407169e-03  3.07243504e-03  8.94519035e-03\n",
      " -2.07310803e-02  1.09890047e-02  2.81247050e-02  5.90481497e-02\n",
      " -3.02757714e-02  5.29530495e-02  4.05087136e-02 -1.63947921e-02\n",
      "  1.68129262e-02 -4.41513881e-02  4.02912125e-02 -1.92114599e-02\n",
      "  3.70834060e-02  1.64583381e-02 -3.65101434e-02 -4.85618971e-03\n",
      "  3.96591276e-02  7.71549484e-03 -5.73275471e-03  4.03110869e-02\n",
      " -5.62315360e-02  1.25455871e-01 -4.01052795e-02 -4.30727052e-03\n",
      " -2.71103028e-02  3.80226113e-02 -3.20519507e-02 -4.53196233e-03\n",
      " -4.26174887e-02 -3.29725035e-02 -2.35216375e-02 -6.26263907e-03\n",
      "  1.50006926e-02  4.52331938e-02  1.76339559e-02  3.13169621e-02\n",
      " -6.57278970e-02  4.93044406e-02  2.48423964e-02  3.13495635e-03\n",
      " -1.83347985e-02 -1.89125352e-02  2.13829204e-02 -2.45845248e-03\n",
      " -2.17099413e-02  3.42567563e-02  3.06485239e-02  2.30117030e-02\n",
      " -4.23470140e-02  6.96212240e-03 -4.76814397e-02 -6.05723597e-02\n",
      "  1.62116829e-02 -1.59935951e-02 -7.89101887e-03 -4.59556505e-02\n",
      "  2.51560099e-02 -1.58408992e-02  5.26834577e-02  1.35529852e-02\n",
      "  4.50113826e-02  4.73763049e-02 -1.49745420e-02 -2.71624391e-04\n",
      "  3.21815498e-02 -1.92170627e-02  7.74064586e-02  5.02369143e-02\n",
      "  4.48140763e-02  1.71509292e-02  1.59516800e-02 -1.26493806e-02\n",
      " -1.87057387e-02  5.91029553e-03 -5.20766191e-02  1.30704911e-02\n",
      " -4.02745965e-04 -1.88876372e-02  4.43072580e-02 -2.95696612e-02\n",
      "  2.46785972e-02  4.24674861e-02 -1.04804337e-01  5.01961028e-03\n",
      " -2.89018583e-02  1.15070686e-01  4.39526662e-02  1.29759789e-03\n",
      "  1.69981886e-02  5.30924601e-03 -2.83352565e-02  4.06097956e-02\n",
      "  5.27556390e-02 -1.93348713e-03  1.18073029e-02  8.23544785e-02\n",
      " -6.75862236e-03 -9.88136046e-03 -3.50153558e-02  5.60704339e-03\n",
      " -4.45307791e-02 -2.14146171e-02 -3.16865072e-02 -7.73489568e-03\n",
      "  7.38739744e-02 -2.84162462e-02  4.00369167e-02 -2.46932954e-02\n",
      " -1.08379191e-02  2.18341816e-02  3.80437449e-02 -1.45816626e-02\n",
      "  5.44457957e-02 -6.41300483e-03  3.79811116e-02  3.87414210e-02\n",
      "  1.09298145e-02 -3.01133823e-02  6.51618792e-03 -5.76921143e-02\n",
      "  3.74685228e-02 -2.22807657e-02 -1.58388354e-02 -5.15436120e-02\n",
      " -3.99610475e-02 -2.06339452e-02 -1.88999474e-02 -3.58868502e-02\n",
      "  3.59390839e-03 -3.69888917e-02  2.65939254e-02  5.82406707e-02\n",
      " -5.99951390e-03  4.57268208e-02 -5.51270731e-02 -1.17333409e-04\n",
      " -4.57370058e-02 -4.72487956e-02  1.03516728e-02  9.80470423e-03\n",
      " -2.17412598e-02  9.20634791e-02  6.21283911e-02  1.68942511e-02\n",
      " -2.94437949e-02  4.93816808e-02  3.30277607e-02 -3.04672495e-02\n",
      "  5.73868155e-02  3.31918485e-02 -4.64274641e-03  8.38294905e-03\n",
      " -1.09378314e-02 -4.42851707e-02  3.72059569e-02 -1.38010271e-02\n",
      " -2.07756441e-02  7.67279137e-03  4.23239730e-03 -6.30012713e-03\n",
      " -2.93742660e-02  4.66331281e-02 -1.05366893e-02 -3.23904608e-03\n",
      " -2.18714308e-02  1.08821569e-02 -2.28906926e-02  2.76662931e-02\n",
      " -3.69745418e-02 -2.51642410e-02 -3.14709544e-02  3.04448698e-02\n",
      " -3.43086161e-02 -3.05459350e-02  1.00904573e-02 -3.19136642e-02\n",
      "  3.37915532e-02 -8.19978714e-02  3.27356830e-02 -4.63124411e-03\n",
      " -2.80399974e-02 -5.78980520e-03  1.06145646e-02  2.23900937e-02\n",
      " -7.94756413e-03  3.75407785e-02 -2.16045864e-02 -9.86668561e-03\n",
      "  1.72486175e-02 -1.52239166e-02  2.31977785e-03 -2.90252417e-02\n",
      "  1.68778095e-02  7.03268722e-02 -3.55257397e-03  2.10718438e-02\n",
      "  1.31466491e-02  1.48201212e-02  4.38743755e-02  1.14567336e-02\n",
      "  3.18481028e-02 -3.50988992e-02  5.55744395e-02 -4.12023365e-02\n",
      "  3.65856700e-02  9.88531113e-03  4.54311911e-03  2.48633809e-02\n",
      " -6.85121445e-03  1.89221278e-02 -2.75503863e-02  3.03302072e-02\n",
      "  4.45945896e-02 -2.11244710e-02 -1.29019916e-02  2.66260537e-03\n",
      " -3.94891761e-02  1.26987137e-02 -5.85095119e-03 -7.18474612e-02\n",
      " -2.23695096e-02 -4.78645116e-02 -6.23453129e-03  5.25150634e-02\n",
      "  1.09523777e-02  6.74771902e-04 -2.65925769e-02  1.37853744e-02\n",
      " -1.00926302e-01 -2.22923001e-03 -3.70827247e-03 -5.01324199e-02\n",
      "  4.12101531e-03  1.12207634e-02  2.07698680e-02  1.01659242e-02\n",
      "  2.66200174e-02 -4.71329875e-02  4.53399075e-03  2.26883460e-02\n",
      " -1.96115598e-02 -7.41993338e-02  2.41410770e-02  2.52956599e-02\n",
      "  1.19577302e-02  9.16486047e-03 -1.25490278e-02  3.56408656e-02\n",
      " -2.65290439e-02 -1.16256776e-03 -6.88198358e-02 -7.14909732e-02\n",
      " -3.29025574e-02  7.99691305e-03 -2.78366432e-02  8.64139050e-02\n",
      " -4.20549372e-03 -2.53228620e-02 -3.45822424e-02  1.98940970e-02\n",
      " -5.74924983e-02  4.25924873e-03  1.75718367e-02 -4.92800511e-02\n",
      "  2.18328964e-02  1.36232590e-02  8.04552808e-02  9.62431543e-03\n",
      " -2.53696460e-02 -1.49071785e-02 -5.41834272e-02 -4.94710505e-02\n",
      "  4.65815403e-02  7.19285384e-02 -5.45505509e-02 -6.47206083e-02\n",
      "  7.64311478e-02  2.25972813e-02  3.20696831e-02  2.61995615e-03\n",
      "  1.38237828e-03  1.40886530e-02  3.79850343e-03  1.59882512e-02\n",
      " -1.05915144e-02  9.73296352e-03  1.62205845e-02 -4.09203842e-02\n",
      "  3.59178614e-03  6.77826861e-03 -1.01325683e-01 -4.88935038e-02\n",
      "  7.90764112e-04 -4.81443405e-02  4.19946983e-02 -4.13326807e-02\n",
      "  5.20154238e-02 -7.75420666e-02  3.44379968e-03 -1.44871762e-02\n",
      "  4.68689948e-02 -1.94747746e-03  1.74543560e-02 -5.69103733e-02\n",
      "  3.41943931e-04  3.98681015e-02 -3.79318884e-03  8.22447892e-03\n",
      "  1.52885923e-02 -3.05738281e-02 -3.72507423e-02  4.23972756e-02\n",
      "  3.10852025e-02 -4.97013070e-02  1.02579957e-02 -1.54218748e-02\n",
      "  9.79246758e-03  6.88581145e-04  3.44810188e-02 -1.25457707e-03\n",
      "  1.54905692e-02 -3.15202735e-02  1.53881323e-03 -1.13694910e-02\n",
      "  3.03988215e-02 -6.15134314e-02  3.60678136e-02  1.93011388e-02\n",
      "  3.09125520e-02 -2.26460844e-02  7.57262856e-02  2.67777015e-02\n",
      " -3.04157734e-02 -9.82182939e-03  3.72318774e-02  2.90570483e-02\n",
      "  2.30472442e-03 -3.59122865e-02 -8.95874947e-03  7.23093003e-02\n",
      " -6.24631085e-02 -1.62782520e-02  9.50239226e-03  3.26183215e-02\n",
      " -3.40667949e-03  1.15362024e-02  2.77380887e-02  5.05235093e-03\n",
      "  3.56168188e-02 -6.07539192e-02  2.65088864e-02  3.57613489e-02\n",
      "  1.69180408e-02  4.89184596e-02  1.47402473e-02 -1.25507768e-02\n",
      "  4.25299592e-02  2.73084547e-02  2.90320292e-02  2.93192733e-03\n",
      "  2.67514177e-02  4.00709473e-02  8.88398197e-03 -2.95769274e-02\n",
      " -8.58081132e-02  2.36678626e-02 -3.09851430e-02  6.56674197e-03\n",
      "  3.98386066e-04 -2.19669081e-02  1.68676414e-02 -4.50458471e-03\n",
      "  4.53074984e-02  8.74449685e-03  3.97797162e-03  3.51502076e-02\n",
      "  2.29761563e-02 -1.48046734e-02 -2.45179161e-02 -2.63560400e-03\n",
      " -4.21644934e-02 -7.74657726e-02  7.11212168e-03  4.45985906e-02\n",
      " -6.02675192e-02  1.58436671e-02 -3.21801305e-02 -4.38881405e-02\n",
      " -5.94136380e-02 -3.31642963e-02 -5.57534397e-02  2.56519672e-02\n",
      " -1.32019315e-02  4.23120782e-02  2.84114610e-02 -5.16271889e-02\n",
      " -2.53292490e-02  1.32139223e-02 -2.54566949e-02 -2.45340262e-02\n",
      " -1.73664838e-02 -1.33683824e-03  5.23710549e-02  4.03903462e-02\n",
      " -8.09273962e-03  3.15206125e-02 -2.64002178e-02  2.58943606e-02\n",
      " -1.89928971e-02  6.05363250e-02 -3.05102542e-02  2.64753234e-02\n",
      "  1.53530948e-02  1.54369753e-02 -1.24515323e-02 -8.32062960e-03\n",
      " -3.45269777e-02 -1.65677965e-02 -2.37506465e-03  9.91676375e-02\n",
      " -3.69190648e-02  2.99349823e-03  1.03162834e-02 -1.78596880e-02\n",
      "  4.49882001e-02  1.59400403e-02 -4.84344736e-02 -2.43645441e-02\n",
      " -5.11795953e-02  7.62586715e-03 -3.95544693e-02 -4.04965878e-03\n",
      " -1.03455754e-02 -2.08969712e-02  2.95718033e-02 -4.50166501e-02\n",
      " -2.50408649e-02  5.22173941e-02 -1.71862897e-02  3.91249210e-02\n",
      " -2.90559139e-02  8.01499840e-03 -2.03014445e-02  2.87230418e-04\n",
      "  9.28406697e-03 -1.80303473e-02  1.56328958e-02  2.79538450e-03\n",
      "  4.76806611e-02  2.86655184e-02 -5.14502265e-02 -1.04255695e-02\n",
      "  1.54670961e-02 -1.61700174e-02 -1.95280071e-02  3.64648760e-03\n",
      " -1.46343838e-02 -3.43419216e-03  1.98973250e-02 -2.47599855e-02\n",
      " -2.93504428e-02 -7.16217011e-02 -7.15996698e-03  5.36349602e-02\n",
      " -5.31707034e-02 -3.35076749e-02  1.84287336e-02 -5.89337289e-33\n",
      "  4.51247431e-02 -4.30125743e-02  4.84322757e-02  6.57452121e-02\n",
      "  3.61047275e-02 -3.65325361e-02  2.06372552e-02  4.50705998e-02\n",
      "  5.92519110e-03  1.57821048e-02  4.63138968e-02 -2.33000740e-02\n",
      " -1.50421064e-03  9.76481382e-03 -1.75037943e-02 -2.78421734e-02\n",
      "  3.44082788e-02 -6.75458182e-03  1.75653864e-02 -6.19440116e-02\n",
      " -6.56118095e-02 -1.44054787e-02  1.54291186e-02 -4.28808518e-02\n",
      "  1.35567980e-02 -7.32007250e-03 -1.76144973e-03 -4.14772667e-02\n",
      " -1.56711601e-03 -1.57203395e-02 -1.71369575e-02  1.82745364e-02\n",
      "  1.95109716e-03 -1.93074327e-02 -2.32523016e-04  2.80800778e-02\n",
      " -4.53828238e-02 -2.68042684e-02 -4.71643582e-02 -2.78830677e-02\n",
      " -8.70157331e-02 -3.60714234e-02  8.69553536e-03  6.51221897e-04\n",
      " -7.25010782e-02  3.28899622e-02  1.55643867e-02 -1.40040834e-03\n",
      "  1.42440051e-02  6.05483055e-02 -2.92006768e-02  9.24716424e-03\n",
      "  5.56783401e-04  2.81818025e-03  2.69842558e-02  3.38611342e-02\n",
      "  3.90830776e-03 -1.12714805e-01 -1.95002612e-02  6.54580146e-02\n",
      " -1.25446022e-02  1.40045080e-02 -6.08598441e-03  1.61543153e-02\n",
      " -2.52030063e-02 -2.91391145e-02 -7.77155310e-02 -1.65687467e-04\n",
      " -2.90223528e-02  9.15839896e-03 -3.19771208e-02  1.64826922e-02\n",
      "  7.46514574e-02 -2.29785722e-02 -4.89250571e-02 -1.53227290e-02\n",
      " -2.83842217e-02  3.56171913e-02 -3.20212706e-03 -2.72330604e-02\n",
      " -7.16445372e-02 -2.26320047e-02  4.95551433e-03 -2.95107625e-02\n",
      " -1.93966683e-02  6.23975135e-02 -2.50409152e-02 -5.78531772e-02\n",
      " -2.04149522e-02 -2.81589050e-02 -1.71099957e-02 -2.18852628e-02\n",
      " -4.36284617e-02  6.57211319e-02  6.55613244e-02 -2.61507370e-02\n",
      "  8.08712989e-02 -1.19233085e-03 -9.34468862e-03 -5.23968898e-02\n",
      " -1.08593307e-01  3.85825196e-03 -1.40013341e-02  2.17874367e-02\n",
      " -4.80466196e-03 -1.42066907e-02 -3.66193689e-02 -1.66559834e-02\n",
      "  3.36197577e-02 -8.94521829e-04  1.89503599e-02  1.01765897e-02\n",
      "  2.42271349e-02 -7.64870495e-02 -3.21902521e-03  8.52625631e-03\n",
      " -6.38155919e-03  7.46685490e-02 -4.70122248e-02 -2.77426820e-02\n",
      " -3.24389078e-02 -3.78341712e-02 -3.92831862e-03 -8.38503465e-02\n",
      "  1.91244893e-02  6.91857515e-03 -9.92307067e-03 -6.99651253e-04\n",
      " -4.19691578e-03 -1.60796419e-02  6.99037760e-02  1.11046322e-02\n",
      "  2.52013024e-07  3.44708152e-02  3.70909050e-02  1.13112517e-02\n",
      " -5.47618121e-02 -1.12436926e-02 -4.38532270e-02  4.32989039e-02\n",
      "  5.04325097e-03  1.12552373e-02  4.47137319e-02  5.69072887e-02\n",
      " -3.19246203e-02 -2.88285147e-02  3.81097533e-02  1.83382668e-02\n",
      " -9.49195698e-02  2.37400886e-02  4.56714164e-03 -4.02822159e-03\n",
      " -1.81085821e-02  5.71029224e-02 -3.84978428e-02  6.90780487e-03\n",
      " -1.43620418e-02 -6.33180067e-02 -1.60653256e-02  2.03590579e-02\n",
      "  9.01139155e-03  3.22265886e-02 -4.98459339e-02 -1.75014716e-02\n",
      "  4.00710739e-02  5.35999872e-02 -1.60414074e-02 -4.64514531e-02\n",
      " -1.02925725e-01 -1.54318633e-02 -9.74241737e-03  2.34403019e-03\n",
      "  4.81929805e-04  8.89240240e-04  2.06803009e-02 -1.79018471e-02\n",
      " -2.44070403e-02 -1.15440516e-02 -3.13437320e-02 -8.66380613e-03\n",
      "  1.32823348e-01  1.08197955e-02 -6.17490942e-03  4.22590179e-03\n",
      " -1.06311319e-02  1.63939800e-02 -5.91829594e-04 -2.03188360e-02\n",
      "  3.64687443e-02 -2.06267825e-04  3.09423357e-02  1.96009893e-02\n",
      " -2.77786274e-02 -2.03202888e-02 -2.04977281e-02  4.49085259e-04\n",
      " -4.82132286e-02 -7.90576190e-02  1.65623222e-02 -2.61265356e-02\n",
      "  1.50102754e-34 -5.51544577e-02 -3.64002748e-03  5.24087958e-02\n",
      " -3.37323993e-02 -4.14577238e-02  2.90298536e-02  2.42472980e-02\n",
      "  4.36432892e-03  3.94060835e-02 -4.37006238e-04 -1.77763980e-02]\n",
      "\n",
      "Sentece: I like horses!\n",
      "Embedding: [-2.67144516e-02  1.31017968e-01 -3.86219397e-02  8.03857204e-03\n",
      "  2.97368709e-02  4.18423563e-02 -2.23039184e-02  2.32260954e-02\n",
      "  4.10415307e-02 -2.95187533e-02 -3.46263722e-02 -1.83776300e-02\n",
      " -4.16668765e-02 -3.50136571e-02 -2.38865521e-03 -3.45176645e-02\n",
      "  3.66863571e-02 -9.95052606e-03 -1.36514539e-02  3.32558006e-02\n",
      "  2.50876695e-02  4.92446348e-02 -4.98318747e-02 -3.70693393e-02\n",
      " -8.86961818e-03  1.86221395e-02 -3.02469544e-02 -8.31604972e-02\n",
      "  4.80911843e-02  5.41726723e-02 -4.70784232e-02 -3.58009674e-02\n",
      "  2.20624078e-02 -5.00785839e-03  1.42282158e-06 -1.15012098e-03\n",
      " -5.59794046e-02  3.81627679e-02  1.37144504e-02  2.09261123e-02\n",
      "  1.77286081e-02 -4.40464839e-02 -1.82883646e-02 -3.46980169e-02\n",
      "  1.40275145e-02  6.92683132e-03  3.91350202e-02  1.17347762e-02\n",
      " -8.34458042e-03  2.72798985e-02 -6.54870924e-03  1.99991278e-02\n",
      " -6.94846213e-02  3.48816952e-03  2.37389281e-02  3.51725519e-02\n",
      "  1.91240609e-02 -5.14322445e-02  2.78950427e-02  7.01103185e-04\n",
      " -1.24893920e-03 -7.77337700e-02  5.04702237e-03  7.82277714e-03\n",
      "  1.70377251e-02 -2.29385885e-04 -2.19660979e-02 -6.28654705e-03\n",
      "  8.83765612e-03  1.61731541e-02  4.74316301e-03  1.63856503e-02\n",
      "  1.98698267e-02  2.87378039e-02 -1.13958269e-02  1.21814059e-02\n",
      " -3.25761619e-03  7.47990385e-02  2.07087840e-03  2.13712594e-03\n",
      "  2.36541685e-03  6.81824796e-03  1.78419929e-02 -6.76717330e-03\n",
      " -1.13652255e-02  3.47163714e-02  3.99641506e-02  6.02479849e-04\n",
      "  2.50220038e-02  3.51954512e-02 -3.58676985e-02 -1.77029353e-02\n",
      "  4.12770621e-02  4.19989452e-02 -4.30353247e-02 -3.04895658e-02\n",
      "  1.79912318e-02  3.39752249e-02  5.67291602e-02 -3.72519121e-02\n",
      "  7.71263661e-03  2.32814904e-02 -3.23418379e-02 -2.01844051e-02\n",
      " -2.13816725e-02 -2.77470890e-02  1.32658910e-02 -3.97538953e-02\n",
      "  6.59546107e-02 -1.38212508e-02 -9.20053571e-03  8.39999504e-03\n",
      "  2.81347223e-02  4.15300205e-02 -5.64223807e-03 -4.35977289e-03\n",
      "  1.77122150e-02  2.02861037e-02 -1.31513244e-02  1.41240237e-02\n",
      " -4.01486978e-02 -6.16060868e-02  3.30247506e-02  4.27827314e-02\n",
      " -3.56697664e-02  8.99660680e-03 -4.70691100e-02  3.80768888e-02\n",
      " -4.82298173e-02 -4.26932201e-02 -7.96995219e-03  5.02463244e-03\n",
      "  2.38699280e-02 -4.13715653e-02  3.72231342e-02  5.26337288e-02\n",
      " -1.24458978e-02  5.02849522e-04  1.85009465e-02 -1.01251090e-02\n",
      "  3.01014297e-02  7.05216825e-03 -3.35082524e-02  7.10088434e-03\n",
      "  1.53239788e-02  9.82496701e-03  2.05332674e-02  1.51319569e-03\n",
      " -9.56340600e-03  3.18279676e-02  7.05033448e-03  2.75495090e-02\n",
      " -8.35546106e-02  7.22255383e-04 -3.07107102e-02 -2.28449958e-03\n",
      " -3.29813287e-02 -1.86590794e-02  2.09018365e-02  4.57937270e-02\n",
      "  5.31819612e-02  6.56177755e-03 -1.76376966e-03 -2.55267769e-02\n",
      " -3.00172456e-02 -6.81450590e-02  2.76180506e-02 -1.68421715e-02\n",
      "  2.72241142e-02 -3.77175771e-02  3.64565440e-02 -2.31930688e-02\n",
      " -3.39562111e-02 -2.45279968e-02  6.90309778e-02 -7.11448677e-03\n",
      "  9.94261801e-02  3.98893841e-02  2.19163094e-02 -4.04604860e-02\n",
      "  3.13975662e-02 -6.93094432e-02  3.09213679e-02  1.91144831e-02\n",
      "  4.83726785e-02  1.97971612e-02  3.27672921e-02  4.79416028e-02\n",
      " -2.59468914e-03  5.95350284e-03  1.48088839e-02 -1.33875050e-02\n",
      " -1.18511301e-02  1.80749167e-02 -2.51696189e-03  2.23802514e-02\n",
      "  2.03121230e-02 -5.51623926e-02  5.08648939e-02 -1.74926836e-02\n",
      "  1.03711160e-02  5.48304170e-02 -4.66480618e-03  4.06192392e-02\n",
      "  1.64949242e-02 -1.50219025e-03 -3.87123227e-02 -4.08391887e-03\n",
      "  2.24078242e-02 -2.66852919e-02  7.18928576e-02 -1.56481229e-02\n",
      "  2.15382073e-02 -3.24763241e-03  4.30515073e-02  5.54415733e-02\n",
      "  1.54590337e-02 -2.34077740e-02 -4.02784720e-02  1.09013177e-01\n",
      " -3.61078009e-02 -3.90355755e-03  9.66882408e-02  3.55334319e-02\n",
      " -2.49859672e-02  4.56151441e-02  1.12770582e-02  3.19718830e-02\n",
      " -8.21709447e-03 -1.45097086e-02 -1.38146933e-02  2.27993634e-03\n",
      "  5.81482723e-02 -1.65185600e-03  3.89424711e-03 -3.25093535e-03\n",
      "  4.48074229e-02  4.96553145e-02 -1.68224517e-02 -4.11297418e-02\n",
      " -1.91907340e-03 -9.49492771e-03  5.89222973e-03  4.09447998e-02\n",
      "  1.46513677e-03 -5.32164425e-02 -2.95555294e-02  1.46508981e-02\n",
      " -3.67850475e-02  1.48291597e-02 -5.90046681e-02 -2.52038632e-02\n",
      " -5.49021363e-02  2.71408688e-02 -2.80363671e-03 -3.59128788e-02\n",
      " -3.64186354e-02 -1.44418310e-02  1.95452757e-02 -6.66407645e-02\n",
      "  9.53727886e-02 -9.99759790e-03 -2.48823874e-02  6.06881380e-02\n",
      " -4.30383645e-02  4.59874608e-02  1.21795600e-02 -4.70494442e-02\n",
      " -1.12133482e-02  4.05425718e-03 -1.83668993e-02 -2.00734269e-02\n",
      "  8.09297338e-03  5.61417872e-03  2.90125073e-03 -4.12400486e-03\n",
      " -2.45109443e-02 -6.07830361e-02  3.15642580e-02  3.81212048e-02\n",
      " -2.57495176e-02 -9.00121592e-03  3.79892550e-02  3.19090784e-02\n",
      " -1.12440512e-02  1.84567329e-02 -1.08609572e-02  2.46243402e-02\n",
      "  2.10186057e-02 -5.99230193e-02 -1.32947890e-02  1.88184585e-02\n",
      " -9.76740010e-03  9.56682209e-03  2.00246722e-02 -2.43597068e-02\n",
      " -7.47997612e-02 -5.50076514e-02  2.16924632e-03 -1.73596945e-02\n",
      " -1.04215648e-02  2.91754846e-02  2.50064954e-02  2.84176283e-02\n",
      "  3.87749970e-02  1.19252186e-02  3.72133441e-02  3.90469804e-02\n",
      " -1.65001303e-02  6.95834011e-02 -1.63944196e-02 -7.37079158e-02\n",
      " -3.43169011e-02  2.05581891e-03  9.86350849e-02  5.81433512e-02\n",
      " -2.93991901e-02 -3.82711105e-02  3.70079018e-02  4.88188267e-02\n",
      " -1.09365135e-02  2.00260971e-02  3.07365954e-02  3.93032469e-02\n",
      " -5.45122176e-02  9.67298727e-03  3.63564081e-02 -8.13301746e-03\n",
      "  3.40572074e-02 -2.40374319e-02  1.62690040e-02 -6.15117187e-03\n",
      "  6.18251190e-02  1.78101715e-02  2.62790844e-02 -4.31745313e-02\n",
      "  2.31975298e-02  4.30519804e-02 -1.22824963e-02  2.35074013e-03\n",
      "  1.26593458e-02 -2.33552922e-02 -5.29602692e-02 -4.72016037e-02\n",
      " -4.13431749e-02 -3.42140235e-02 -6.31477982e-02 -5.49499281e-02\n",
      " -4.36866982e-03 -3.53800617e-02 -1.97227746e-02 -7.51119992e-03\n",
      "  2.12547765e-03  4.76517454e-02  1.09922430e-02  3.04179247e-02\n",
      "  1.46337692e-02  3.07517871e-02 -1.45270126e-02 -1.70470476e-02\n",
      "  3.67471538e-02  4.42354828e-02  3.12824622e-02 -2.07042824e-02\n",
      " -3.52868512e-02 -2.42242105e-02  1.73001830e-02 -5.09645939e-02\n",
      " -5.22649921e-02 -6.42453786e-03 -2.20864546e-02 -2.42289137e-02\n",
      " -1.85502563e-02  2.09545735e-02 -2.66731437e-02  7.72047341e-02\n",
      "  3.55064906e-02  4.87249456e-02  6.55237511e-02 -1.83372907e-02\n",
      "  4.43752632e-02 -1.96081623e-02 -4.16709622e-03  1.72038972e-02\n",
      " -7.87352547e-02  1.13609936e-02  3.29830721e-02 -3.34833488e-02\n",
      " -5.91834038e-02 -5.16828708e-03  3.64363156e-02  5.87292947e-03\n",
      " -6.47325590e-02 -6.63173869e-02  2.19204668e-02 -1.38641689e-02\n",
      " -7.08775669e-02  3.66111994e-02  1.24158468e-02  1.85580589e-02\n",
      " -9.74495430e-03  7.25327805e-02  3.39582004e-02 -3.37731801e-02\n",
      " -1.80621780e-02  1.93781164e-02  2.81449631e-02  5.28942095e-03\n",
      "  4.20942307e-02 -1.23083293e-01 -7.94750676e-02  9.75957606e-03\n",
      " -2.79009659e-02  1.05111813e-02  3.45771550e-03 -1.75463278e-02\n",
      "  1.61945336e-02 -3.45510691e-02  4.52590967e-03 -2.37182667e-03\n",
      " -1.51141249e-02 -2.47375406e-02 -1.73723530e-02 -2.17887014e-02\n",
      " -3.81727777e-02 -2.62229405e-02  5.28297611e-02  4.99212854e-02\n",
      " -7.42874295e-03 -9.25566535e-04 -3.52285616e-02  7.01323384e-03\n",
      "  2.04047393e-02 -2.87854653e-02 -6.26717657e-02 -3.56784947e-02\n",
      " -9.65091772e-03  3.77316624e-02 -2.32007150e-02 -5.49368039e-02\n",
      " -4.15531918e-02  4.60585468e-02 -2.85466127e-02 -1.02311904e-02\n",
      "  4.15115356e-02  4.87313718e-02 -5.12896851e-02 -2.63645574e-02\n",
      "  4.78796661e-02  4.24948754e-03 -1.24509800e-02  1.37372520e-02\n",
      " -2.45817117e-02  3.30335237e-02 -3.50699993e-03 -5.78273227e-03\n",
      "  5.48207853e-03 -7.99308419e-02  1.17996652e-02  2.62448844e-02\n",
      "  7.02878237e-02  3.68168810e-03 -2.48584952e-02  1.60750560e-02\n",
      "  9.65146697e-04  1.82267036e-02  9.39315744e-03 -2.96558850e-02\n",
      "  3.92309343e-03 -5.14191054e-02 -1.69606190e-02 -1.98429041e-02\n",
      " -3.49021028e-03  3.12085375e-02  3.27818021e-02  5.27704209e-02\n",
      "  4.46242280e-03  1.18340757e-02  2.50518695e-02 -4.76561971e-02\n",
      " -7.44548067e-02  5.99202141e-02 -5.69956377e-03 -1.62266346e-03\n",
      " -1.20002788e-03 -3.23642828e-02  3.44793824e-03 -2.37544496e-02\n",
      "  4.43041744e-03 -3.08273342e-02 -3.59355621e-02  4.43713926e-03\n",
      " -4.75262776e-02 -8.31952468e-02  4.26745554e-03  6.36712536e-02\n",
      "  2.90642511e-02 -6.99088871e-02  1.03362063e-02  1.88462529e-02\n",
      " -3.32860760e-02  3.96924950e-02 -9.97587945e-03  6.79315850e-02\n",
      "  2.69873831e-02 -3.28908395e-03 -1.17854970e-02  3.25983856e-04\n",
      " -1.81754790e-02 -2.56635877e-03  1.76420622e-02 -7.90652540e-03\n",
      " -4.59221117e-02 -1.44926067e-02  7.05569088e-02  7.63443932e-02\n",
      " -2.13224888e-02 -7.01023564e-02 -2.44030431e-02 -4.42189947e-02\n",
      " -1.92245245e-02 -3.43547110e-03 -5.37870824e-03  1.60381496e-02\n",
      "  4.31605708e-03  2.63602361e-02  9.25269164e-03 -5.00051342e-02\n",
      " -2.23820619e-02  2.37112306e-02 -3.18208039e-02  1.91109872e-03\n",
      "  2.22122800e-02 -2.86415201e-02 -3.01541369e-02  4.24447693e-02\n",
      "  3.16200741e-02 -4.11088951e-03 -1.94385312e-02  4.66424637e-02\n",
      " -2.17027217e-02 -2.05982081e-03  2.94458568e-02 -8.11043158e-02\n",
      " -3.00531108e-02  8.84201471e-03  5.94104752e-02 -4.32767197e-02\n",
      " -3.30853276e-02 -3.78850549e-02 -7.49539165e-03 -2.94030830e-02\n",
      " -2.78828591e-02 -6.97876960e-02 -1.04949608e-01 -6.08098693e-33\n",
      " -5.51380999e-02  5.61124878e-03 -2.12247372e-02 -1.64441355e-02\n",
      " -1.91945881e-02 -6.31383732e-02  7.29616433e-02  5.43050878e-02\n",
      "  9.38583352e-03  5.87568581e-02 -4.03266177e-02 -1.17488811e-02\n",
      " -3.14355060e-03  3.06387222e-03  1.02370242e-02  9.91448760e-03\n",
      "  4.25155349e-02  1.35757737e-02 -1.42614963e-03 -1.04992818e-02\n",
      "  1.34479925e-02  1.84357595e-02  2.05373112e-02 -2.03614719e-02\n",
      "  5.92006706e-02  4.36169505e-02 -1.34567367e-02 -2.44422480e-02\n",
      "  1.97254140e-02  7.98829272e-02 -2.71733361e-03 -2.49470882e-02\n",
      " -5.54749509e-03 -5.11282384e-02 -1.14621781e-02  7.02913031e-02\n",
      " -3.59583497e-02  6.75166864e-03  7.97247235e-03  2.47955453e-02\n",
      "  8.60149711e-02 -6.06778152e-02  5.15737087e-02 -8.29937384e-02\n",
      " -6.10619877e-03  5.53287752e-03  3.96847576e-02  4.83613312e-02\n",
      "  5.62811047e-02  3.28994617e-02 -3.95440087e-02 -6.64222687e-02\n",
      " -6.01476012e-03 -2.22541895e-02  4.40150835e-02 -1.99889503e-02\n",
      "  4.15038653e-02  4.01953887e-03  6.46273838e-03 -7.56389415e-03\n",
      " -2.00565886e-02 -4.12345827e-02 -5.27454279e-02  1.99447740e-02\n",
      " -2.42805239e-02  9.00406763e-02 -1.36347569e-03 -2.23540906e-02\n",
      "  1.24890218e-03  2.67293397e-02 -4.62033525e-02 -4.11433959e-03\n",
      "  1.04217026e-02 -2.03547720e-02 -3.05201183e-03  2.12044194e-02\n",
      " -2.47737877e-02 -2.73370016e-02 -7.42391497e-02  2.22837273e-02\n",
      "  1.23512316e-02 -1.80122722e-03 -1.29682217e-02  2.24856660e-02\n",
      "  2.74916291e-02  4.72554527e-02  1.47988675e-02 -7.57994782e-03\n",
      " -6.21416122e-02 -1.62536819e-02  2.41620280e-02  1.02008665e-02\n",
      " -1.31030865e-02 -8.06463603e-03 -2.23883055e-02 -8.22523143e-03\n",
      " -2.31066439e-02 -4.72937413e-02 -9.15289205e-03 -8.02163128e-03\n",
      "  6.06632568e-02 -5.54484827e-03 -1.17456215e-02  1.09999711e-02\n",
      "  1.48121184e-02  7.78211979e-03  1.76356193e-02 -2.45958827e-02\n",
      " -6.22097589e-02  4.78604101e-02  4.24484140e-04  4.90715541e-02\n",
      "  4.79640029e-02  1.08700074e-01  4.72227894e-02 -2.13420279e-02\n",
      "  1.43255070e-02  5.01378328e-02 -5.37697971e-02 -6.70107873e-03\n",
      "  5.06178010e-03 -1.76747832e-02 -8.18694085e-02  1.33880763e-03\n",
      "  9.54762567e-03 -2.69555654e-02 -8.88636522e-03 -6.27400726e-02\n",
      " -3.88119295e-02 -2.61610113e-02  1.80818047e-02 -1.85252577e-02\n",
      "  2.16867434e-07 -3.05570774e-02 -1.17482757e-02  3.86133566e-02\n",
      "  3.74167114e-02  2.54942048e-02  5.64584434e-02 -1.09358951e-02\n",
      " -3.30961868e-03  1.25073427e-02  9.65328068e-02 -1.43617541e-02\n",
      "  3.24686617e-02  3.97201926e-02 -4.94120829e-03 -2.60988646e-03\n",
      " -6.81308582e-02 -1.66515987e-02 -2.99731735e-02  3.99055053e-03\n",
      " -8.13999400e-03 -9.24562514e-02 -2.10931282e-02 -1.69722252e-02\n",
      " -2.74126139e-03 -1.28148878e-02  2.96035782e-02 -6.09628565e-04\n",
      " -3.85000296e-02  4.86925943e-03  3.31277661e-02 -6.07116222e-02\n",
      "  3.97328474e-02 -2.65968833e-02  1.81749631e-02  2.81270109e-02\n",
      " -1.95649043e-02 -1.59012470e-02 -2.35990938e-02  1.40775600e-02\n",
      "  6.34064451e-02 -3.07723582e-02  1.13034442e-01 -2.16423925e-02\n",
      "  4.25004028e-02  8.88848584e-03  5.16530387e-02  1.31784077e-03\n",
      " -1.07091129e-01  4.95355278e-02 -1.30839143e-02 -2.18527988e-02\n",
      " -2.33550090e-03  2.22141836e-02 -8.58236919e-04  7.25461636e-03\n",
      " -2.40625930e-03  4.42726165e-03 -4.03266884e-02  8.73129070e-03\n",
      " -4.62856069e-02 -9.82049946e-03  7.88558833e-03 -5.59528498e-03\n",
      "  4.54911180e-02 -8.76697339e-03 -4.82472479e-02 -1.01598747e-01\n",
      "  1.12966350e-34  1.71271861e-02 -4.39227968e-02 -3.20055522e-02\n",
      "  2.03909501e-02  2.53923126e-02 -1.92606263e-02  5.61988428e-02\n",
      " -2.65362673e-02  6.99775741e-02  1.96202453e-02 -2.20129229e-02]\n",
      "\n"
     ]
    }
   ],
   "source": [
    "from sentence_transformers import SentenceTransformer\n",
    "embedding_model = SentenceTransformer(model_name_or_path=\"all-mpnet-base-v2\",\n",
    "                                     device=\"cpu\")\n",
    "\n",
    "# Create a list of sentences\n",
    "sentences = [\n",
    "    \"Learning Activities Technology Note: The second edition of the Human Nutrition Open Educational Resource (OER) textbook features interactive learning activities\",\n",
    "    \"I like horses!\"\n",
    "]\n",
    "\n",
    "# Sentences are encoded/embedded by calling model.encode()\n",
    "embeddings = embedding_model.encode(sentences)\n",
    "embeddings_dict = dict(zip(sentences, embeddings))\n",
    "\n",
    "for sentence, embedding in embeddings_dict.items():\n",
    "    print(f\"Sentece: {sentence}\")\n",
    "    print(f\"Embedding: {embedding}\")\n",
    "    print(\"\")"
   ]
  },
  {
   "cell_type": "code",
   "execution_count": 22,
   "metadata": {},
   "outputs": [
    {
     "data": {
      "text/plain": [
       "(768,)"
      ]
     },
     "execution_count": 22,
     "metadata": {},
     "output_type": "execute_result"
    }
   ],
   "source": [
    "embeddings[0].shape"
   ]
  },
  {
   "cell_type": "code",
   "execution_count": 23,
   "metadata": {},
   "outputs": [
    {
     "data": {
      "text/plain": [
       "array([-5.00165345e-03,  4.72070612e-02, -2.40024757e-02, -1.58585571e-02,\n",
       "        2.43593287e-02,  7.41919205e-02, -7.20568597e-02, -4.86758631e-03,\n",
       "       -4.06144373e-02, -2.54812911e-02, -4.35632430e-02,  7.13663325e-02,\n",
       "       -6.53339028e-02, -3.90337780e-02,  1.16073042e-02, -3.58555801e-02,\n",
       "        3.92476581e-02,  3.44534665e-02, -4.05611843e-03,  2.30281334e-02,\n",
       "       -5.52244997e-03,  5.43379486e-02, -2.46011242e-02, -1.10480832e-02,\n",
       "        1.83787495e-02,  2.62907073e-02, -8.49822350e-03, -2.58107781e-02,\n",
       "        5.51881082e-03, -1.84886847e-02, -5.59564941e-02, -5.69908395e-02,\n",
       "        1.31537057e-02,  7.42521510e-03,  1.27404417e-06,  1.13695366e-02,\n",
       "       -8.80080182e-03,  2.10266025e-03,  6.48652762e-02, -6.27641678e-02,\n",
       "        2.95485556e-02, -6.84317900e-04, -2.72781793e-02,  1.91967329e-03,\n",
       "        1.73108894e-02,  2.81309858e-02,  5.70766069e-02,  8.49287808e-02,\n",
       "       -5.50692976e-02,  3.90659012e-02, -1.84876267e-02, -5.11634275e-02,\n",
       "       -2.97517218e-02,  2.75827497e-02, -5.52473729e-03,  3.01910434e-02,\n",
       "        1.31960260e-02, -4.99221776e-03,  6.19588280e-03, -2.77277585e-02,\n",
       "       -1.56727117e-02, -6.27200380e-02,  4.74098064e-02, -3.44915241e-02,\n",
       "        6.20435178e-02,  3.59286889e-02,  1.64095056e-03, -3.40455733e-02,\n",
       "        2.40174830e-02,  3.96910161e-02, -2.83147711e-02,  5.84033085e-03,\n",
       "       -4.69557708e-03,  8.33330974e-02,  1.84912141e-02,  1.73047967e-02,\n",
       "        2.03478951e-02,  4.79844101e-02,  5.55692576e-02,  7.63538992e-03,\n",
       "       -1.61534660e-02,  1.48845911e-02, -1.96933858e-02,  1.68825556e-02,\n",
       "       -4.82022315e-02,  1.90750193e-02,  3.40385251e-02,  2.84259003e-02,\n",
       "        6.84811734e-03,  7.34954551e-02, -4.90280725e-02,  2.94864457e-02,\n",
       "        3.02431043e-02,  5.79693876e-02, -7.24490359e-02, -6.17971178e-03,\n",
       "       -4.86986749e-02, -3.76107567e-03,  5.36492735e-04, -2.84877960e-02,\n",
       "       -1.74891744e-02,  3.21840588e-03, -4.51865681e-02, -8.56434461e-03,\n",
       "        4.05434556e-02,  2.21033674e-02, -7.17374170e-03, -3.00698588e-03,\n",
       "        4.19439888e-03,  1.35779241e-02, -1.26657598e-02, -8.81559029e-03,\n",
       "        5.68340272e-02,  7.38769919e-02,  6.03822730e-02, -1.55882882e-02,\n",
       "        7.12325126e-02,  4.41704057e-02,  1.03381677e-02,  2.81509552e-02,\n",
       "        2.99392879e-04, -1.95771046e-02, -2.47354619e-04,  6.54791892e-02,\n",
       "       -5.03361365e-03, -1.93977002e-02, -8.63411576e-02,  5.75877428e-02,\n",
       "       -2.23395638e-02, -7.77234370e-03,  2.20731273e-03,  5.21729328e-03,\n",
       "       -2.33235843e-02, -5.20956852e-02,  7.13838846e-04, -6.43174872e-02,\n",
       "       -1.13054747e-02, -4.62932587e-02,  6.64141551e-02,  1.22551443e-02,\n",
       "        8.99386499e-03, -2.45432891e-02, -1.92893222e-02,  3.42785120e-02,\n",
       "        3.43645476e-02,  1.51445968e-02,  2.17676964e-02,  3.49618644e-02,\n",
       "       -1.42231779e-02,  3.49294655e-02,  8.84223506e-02,  3.02880034e-02,\n",
       "       -1.26899183e-01,  5.43041527e-03, -7.74601921e-02, -8.31843726e-03,\n",
       "        4.99826744e-02, -4.01600376e-02,  3.02731711e-03,  6.77779838e-02,\n",
       "        3.52112837e-02, -1.78380348e-02, -6.86010346e-02, -5.30158170e-02,\n",
       "       -4.94740233e-02, -4.26048078e-02,  3.25196497e-02,  1.63820516e-02,\n",
       "       -1.49957230e-02, -6.10448234e-02,  1.12360874e-02,  1.40845962e-02,\n",
       "       -2.04483438e-02,  1.63272098e-02,  4.67963815e-02,  4.51601722e-04,\n",
       "        2.13553682e-02,  8.12532660e-03, -8.76839980e-02, -3.24218012e-02,\n",
       "        4.22606841e-02,  4.18452136e-02,  1.41881723e-02,  1.97987389e-02,\n",
       "       -3.27798282e-03, -1.20409094e-02, -4.32544686e-02,  4.62458655e-02,\n",
       "        1.39699914e-02,  8.62800144e-03, -1.90916564e-03,  9.58351418e-03,\n",
       "        5.53116528e-03,  2.67583746e-02, -6.47587841e-03,  1.78501438e-02,\n",
       "        3.58098485e-02, -5.94594367e-02,  1.69770755e-02,  1.80236772e-02,\n",
       "       -3.35374735e-02,  6.24001995e-02,  6.06513508e-02,  5.26619591e-02,\n",
       "       -9.36783757e-03,  1.16405841e-02,  8.76074750e-03, -1.94884595e-02,\n",
       "        5.93696907e-02, -5.98841161e-03,  6.14885874e-02, -2.29396410e-02,\n",
       "       -2.83083431e-02, -1.10179326e-03,  4.51770204e-04, -8.70624185e-03,\n",
       "        3.40049714e-02, -2.71074008e-02, -4.39380631e-02,  8.00424144e-02,\n",
       "       -2.67715510e-02, -9.69255343e-03,  8.16650316e-02,  3.36429961e-02,\n",
       "       -2.86281854e-03,  1.87033918e-02,  8.43194313e-03,  2.25275345e-02,\n",
       "        4.99161556e-02, -2.35142671e-02,  1.73617993e-02,  1.16163408e-02,\n",
       "        5.70688024e-02,  5.69121018e-02,  3.23589295e-02,  5.26774749e-02,\n",
       "       -2.16141692e-03, -2.62718778e-02, -3.29553196e-03, -7.19402879e-02,\n",
       "        4.11862917e-02,  9.50050205e-02,  1.54024344e-02,  2.97867805e-02,\n",
       "       -1.27593586e-02, -8.59621391e-02,  1.55169023e-02, -9.52655170e-03,\n",
       "        4.95060645e-02,  2.06852946e-02, -3.41476128e-02, -1.19285565e-02,\n",
       "       -3.58693898e-02,  1.94086190e-02, -2.01214235e-02, -4.87379357e-02,\n",
       "        4.04811986e-02, -2.47923937e-02,  1.12825120e-03, -3.89463082e-02,\n",
       "        9.58488211e-02, -3.00428718e-02, -6.85599074e-02,  5.34711108e-02,\n",
       "       -5.36436662e-02, -1.13211498e-02, -3.94555628e-02, -9.97540541e-04,\n",
       "       -3.28756385e-02,  9.68754815e-04,  3.60091217e-02, -6.51270375e-02,\n",
       "       -4.56006750e-02,  4.62025516e-02,  1.12261670e-03,  6.28936710e-03,\n",
       "        5.17280074e-03, -4.95199040e-02,  7.83669110e-03,  2.66927481e-02,\n",
       "       -5.99558577e-02,  1.68755054e-02,  2.45746062e-03,  5.59775643e-02,\n",
       "        7.21287448e-03,  4.78895679e-02,  2.93421838e-02,  2.32696328e-02,\n",
       "        2.36015636e-02, -3.01452004e-03, -8.27074796e-03, -1.81222558e-02,\n",
       "        2.45782547e-02, -1.83214936e-02,  4.29240167e-02, -4.32091439e-03,\n",
       "       -3.08502540e-02, -6.53589517e-02,  9.72939283e-03, -9.01462138e-03,\n",
       "        3.90003100e-02, -2.20049173e-02,  3.03894766e-02, -3.32149072e-03,\n",
       "        2.95974724e-02, -2.26020403e-02, -4.30468749e-03,  8.55227262e-02,\n",
       "        4.04959824e-03,  5.24750678e-03, -6.21256679e-02, -8.13532695e-02,\n",
       "        8.87252018e-03,  3.56406756e-02,  5.26725017e-02,  5.27211130e-02,\n",
       "       -4.41831909e-02, -5.81225753e-02,  3.28771807e-02, -4.07662578e-02,\n",
       "       -1.80641375e-02, -2.78227087e-02,  3.11995987e-02,  3.78349200e-02,\n",
       "       -2.37625297e-02,  2.04560608e-02,  3.49895395e-02, -1.85644515e-02,\n",
       "        7.07487762e-02,  3.68450060e-02, -2.13278271e-02,  2.31870357e-03,\n",
       "        6.97467923e-02, -9.06861294e-03,  1.94076798e-03, -3.16474959e-02,\n",
       "        1.13096870e-02, -3.88243720e-02, -1.17263505e-02,  3.69781926e-02,\n",
       "       -5.12278592e-03, -1.77116357e-02, -4.31996137e-02,  4.15130518e-02,\n",
       "       -3.02220397e-02,  3.93539593e-02, -3.74136455e-02, -3.45727615e-02,\n",
       "       -3.70768532e-02, -5.47974668e-02,  2.93560475e-02, -1.08699836e-01,\n",
       "        2.23542787e-02, -1.52504323e-02,  1.30137883e-03,  2.32120175e-02,\n",
       "        2.44936384e-02,  8.55690334e-04, -7.47100450e-03,  2.31879130e-02,\n",
       "        2.59627439e-02,  3.06480261e-03,  1.96453929e-02,  4.85277362e-02,\n",
       "       -2.58006807e-02,  4.05735746e-02,  1.02702007e-02, -2.45263986e-02,\n",
       "       -6.05184585e-02, -1.01070153e-02,  3.24171712e-03, -2.63354182e-02,\n",
       "        1.26370490e-02,  8.22876021e-02,  1.37401689e-02,  8.74319859e-03,\n",
       "        5.47569729e-02,  1.38490712e-02, -5.33121489e-02,  1.78061649e-02,\n",
       "        4.14850079e-02, -1.19228279e-02, -2.07484420e-03,  5.53617105e-02,\n",
       "       -5.55087067e-02,  3.35331298e-02,  1.91208515e-02, -1.34520531e-02,\n",
       "        2.40967199e-02, -3.55183557e-02,  2.50423513e-02, -6.69989362e-02,\n",
       "       -7.48984292e-02, -8.11156332e-02, -1.75387058e-02, -4.05337922e-02,\n",
       "       -8.02631676e-03,  1.21723339e-02, -4.24654549e-03,  6.98084058e-03,\n",
       "       -2.81613842e-02,  9.77427959e-02,  4.86997776e-02, -1.29953567e-02,\n",
       "       -9.29889642e-03, -6.47105351e-02,  5.49325682e-02,  1.97653770e-02,\n",
       "        5.63807487e-02, -4.69455011e-02, -9.34219658e-02,  1.86776500e-02,\n",
       "        1.31591503e-02, -9.19270515e-03, -3.82240899e-02, -3.86862271e-02,\n",
       "       -7.77377468e-03,  1.28867598e-02, -1.80195849e-02,  9.53788124e-03,\n",
       "       -2.07544826e-02, -3.10245473e-02, -1.33539978e-02, -1.86314024e-02,\n",
       "       -1.77532006e-02, -1.07562244e-02, -1.88585259e-02,  4.08216082e-02,\n",
       "       -1.25072384e-02,  3.75457071e-02,  2.91195009e-02, -4.01624478e-02,\n",
       "        2.60645282e-02, -2.00602803e-02, -2.84640864e-02, -2.13469900e-02,\n",
       "       -2.02026442e-02, -3.22429426e-02, -6.15141802e-02, -5.78208566e-02,\n",
       "       -2.95857936e-02,  4.95214872e-02, -4.44349460e-02,  2.03718580e-02,\n",
       "       -4.37682681e-03,  2.25744606e-03, -1.05999354e-02, -7.78154889e-03,\n",
       "        2.04120297e-02,  2.50432752e-02,  2.62904689e-02,  4.18447815e-02,\n",
       "       -4.96388525e-02,  5.55725433e-02, -1.60268601e-02, -1.16864843e-02,\n",
       "        1.76488310e-02, -1.81161966e-02, -3.42473667e-03, -2.35774107e-02,\n",
       "        2.04853304e-02, -4.65061195e-04,  1.84595899e-03,  2.34789997e-02,\n",
       "       -8.20715632e-03, -5.51028997e-02, -1.96021236e-02, -1.18994564e-02,\n",
       "       -1.51701542e-02, -6.45180419e-02, -1.97688472e-02, -2.08622636e-03,\n",
       "       -5.73885115e-03,  3.12828422e-02,  3.67432944e-02, -3.67229059e-02,\n",
       "       -4.11343062e-03,  1.70090687e-04, -5.08297123e-02, -3.28400433e-02,\n",
       "        8.55951977e-04,  9.26372968e-03, -1.05917081e-02, -1.78642590e-02,\n",
       "       -4.57877666e-02, -2.00226381e-02,  7.40326056e-03,  5.35368628e-04,\n",
       "       -1.35226827e-02, -2.04021279e-02,  4.93300753e-03, -2.40680892e-02,\n",
       "       -4.56355214e-02, -9.14953947e-02, -1.50243100e-02,  1.15522929e-02,\n",
       "       -1.43620083e-02, -6.25226796e-02, -7.22823013e-03,  6.70750951e-03,\n",
       "       -3.98530774e-02,  5.83217898e-03, -2.24915263e-03,  4.10613120e-02,\n",
       "        4.69727069e-02, -3.63112427e-02,  6.55004475e-03, -1.81028321e-02,\n",
       "       -5.62084652e-02,  1.44215785e-02,  6.90672267e-03, -3.85425799e-03,\n",
       "        3.68952379e-02,  2.32192818e-02,  2.08492186e-02, -9.42551810e-03,\n",
       "       -5.45413094e-03, -5.52639700e-02, -1.84213612e-02, -3.68907265e-02,\n",
       "       -1.83061156e-02, -1.38044721e-02,  1.45316906e-02,  2.54953224e-02,\n",
       "       -2.97102109e-02, -1.84641704e-02,  4.47767880e-03, -1.58244427e-02,\n",
       "       -4.42631766e-02, -3.31695424e-03,  2.61789542e-02, -2.98501011e-02,\n",
       "       -2.48421747e-02,  2.52916515e-02,  3.09861172e-03,  6.76861554e-02,\n",
       "        6.78852573e-02,  2.05832701e-02,  3.56862065e-03,  3.10909580e-02,\n",
       "        5.37763909e-03,  1.80033203e-02,  3.00768465e-02, -4.86006290e-02,\n",
       "       -2.06631217e-02,  2.65835542e-02,  3.64121199e-02,  1.76237058e-02,\n",
       "       -5.75911701e-02, -3.88136096e-02,  2.54051741e-02, -5.25801815e-02,\n",
       "        1.29594915e-02, -9.92607046e-03, -1.78297646e-02, -4.52442743e-33,\n",
       "       -2.01313868e-02, -7.79877370e-03, -5.08952923e-02,  5.67551889e-03,\n",
       "       -3.90528366e-02, -5.41582331e-02,  3.61050144e-02,  3.17150205e-02,\n",
       "       -1.61349718e-02,  1.97339002e-02, -4.96813469e-02,  1.98271535e-02,\n",
       "       -3.13048391e-03, -1.84355874e-03, -2.05890052e-02,  1.17535694e-02,\n",
       "        4.28926274e-02, -6.85005961e-03,  1.31390095e-02,  1.05506033e-02,\n",
       "       -2.58991052e-03,  2.06289124e-02,  5.49981184e-02, -7.30409771e-02,\n",
       "        4.15609963e-03,  6.83773980e-02, -3.01925782e-02, -2.21677646e-02,\n",
       "        7.93199427e-03,  4.55964059e-02, -5.36541604e-02, -3.60921882e-02,\n",
       "       -8.59655265e-04, -1.98169914e-03, -7.77064450e-03, -1.96650322e-03,\n",
       "       -2.32413970e-02, -3.04947980e-02,  2.19716923e-03,  1.77625213e-02,\n",
       "       -3.47010270e-02, -8.35137889e-02,  6.24388158e-02, -9.58428755e-02,\n",
       "       -2.36028805e-02,  2.02319250e-02,  2.27549169e-02, -4.13992368e-02,\n",
       "       -1.04602873e-02,  3.08338832e-02, -1.11237995e-01, -8.83028843e-03,\n",
       "       -1.99895743e-02, -2.82766726e-02,  2.48973519e-02, -7.99825937e-02,\n",
       "        1.47321541e-02,  2.39146091e-02, -2.30360217e-02, -3.50155048e-02,\n",
       "       -1.65919419e-02, -3.73265892e-02, -3.64293307e-02,  2.04273791e-04,\n",
       "        3.83040197e-02,  6.42429292e-02,  8.82815644e-02,  3.29140457e-03,\n",
       "       -1.97898392e-02,  2.13495400e-02, -4.24106978e-02,  7.87221789e-02,\n",
       "        4.98752482e-02, -2.93054469e-02, -7.17199361e-03, -7.39831536e-04,\n",
       "       -3.05902027e-02, -1.06638800e-02,  5.41165397e-02,  5.15201502e-03,\n",
       "       -2.30180267e-02, -4.72996524e-03,  7.01669429e-04,  2.42995508e-02,\n",
       "        2.34344639e-02,  2.03448348e-02,  5.24938293e-02, -2.54648682e-02,\n",
       "       -4.74217236e-02,  2.46182363e-02, -3.22782435e-02, -5.15248952e-03,\n",
       "        9.47774295e-03,  3.69652696e-02, -8.99520051e-03, -1.55683002e-03,\n",
       "       -1.42035335e-02, -3.77388746e-02, -2.89175864e-02,  9.65979602e-03,\n",
       "        3.67540605e-02, -4.88991812e-02,  4.92260344e-02,  1.04112457e-02,\n",
       "        2.51356121e-02,  1.79001093e-02,  3.18967625e-02, -3.12232710e-02,\n",
       "       -1.11616990e-02, -9.16272495e-03,  6.63562212e-03, -2.97229700e-02,\n",
       "        5.91285378e-02,  8.91031101e-02,  3.40738297e-02, -9.71213076e-03,\n",
       "        2.81008296e-02,  2.39240918e-02, -2.14654375e-02,  2.22737771e-02,\n",
       "        1.13119709e-03,  1.30857825e-02, -7.46622458e-02,  1.08994348e-02,\n",
       "        2.26748977e-02, -2.70942058e-02, -5.32670543e-02,  1.30641172e-02,\n",
       "       -6.76527470e-02,  1.45358518e-02, -1.60786137e-02,  3.34040225e-02,\n",
       "        1.94855829e-07, -2.24611983e-02, -2.82942057e-02,  1.60823911e-02,\n",
       "        7.90545046e-02,  5.16520813e-02, -1.18147610e-02, -1.15586612e-02,\n",
       "       -1.92956198e-02,  3.24367662e-03,  3.60296965e-02, -1.55472811e-02,\n",
       "        3.47083360e-02,  9.09776688e-02,  2.09337622e-02,  2.38959230e-02,\n",
       "       -1.32110901e-02,  3.30970585e-02,  2.80726328e-02,  1.24462228e-02,\n",
       "       -3.57634276e-02, -3.94184478e-02,  2.38475408e-02,  2.95307431e-02,\n",
       "        4.20430936e-02,  3.41183282e-02,  2.23699561e-03, -3.87502485e-03,\n",
       "       -3.20371017e-02,  1.88165400e-02, -1.56541839e-02, -7.00887572e-03,\n",
       "        4.52730097e-02, -5.77127896e-02, -5.63301221e-02,  1.29577983e-02,\n",
       "       -4.93605211e-02,  6.37120707e-03, -6.26421273e-02,  7.30341533e-03,\n",
       "       -3.62326717e-03, -2.20098868e-02,  5.00832200e-02, -2.84167882e-02,\n",
       "       -4.53051692e-03,  2.61343010e-02,  5.31838685e-02,  2.44054198e-02,\n",
       "        4.63643199e-04,  5.23087792e-02, -6.02215789e-02, -6.33375999e-03,\n",
       "       -4.01893891e-02, -4.41848952e-03,  3.75581682e-02,  7.96809734e-04,\n",
       "       -2.29468048e-02, -6.35490334e-03, -3.78152393e-02,  1.93225648e-02,\n",
       "       -3.97153571e-02, -3.49177495e-02, -6.40537450e-03,  2.42043589e-05,\n",
       "        1.47555182e-02,  2.33351979e-02, -3.06668971e-02,  8.45129776e-04,\n",
       "        7.33365613e-35, -1.79838203e-02, -1.30142830e-02, -5.52224554e-03,\n",
       "        6.01002909e-02,  2.91185584e-02, -1.14357518e-02,  1.11066056e-02,\n",
       "       -3.23907323e-02,  5.65605424e-02, -9.68470704e-03, -3.10416371e-02],\n",
       "      dtype=float32)"
      ]
     },
     "execution_count": 23,
     "metadata": {},
     "output_type": "execute_result"
    }
   ],
   "source": [
    "embedding = embedding_model.encode(\"My favorite animal is the dog\")\n",
    "embedding"
   ]
  },
  {
   "cell_type": "code",
   "execution_count": 24,
   "metadata": {},
   "outputs": [
    {
     "name": "stdout",
     "output_type": "stream",
     "text": [
      "CPU times: total: 0 ns\n",
      "Wall time: 0 ns\n"
     ]
    }
   ],
   "source": [
    "%%time\n",
    "\n",
    "# embedding_model.to(\"cpu\")\n",
    "\n",
    "# # Embed each chunk one by one\n",
    "# for item in tqdm(pages_and_chunks_over_min_token_len):\n",
    "#     item[\"embedding\"] = embedding_model.encode(item[\"sentence_chunk\"])"
   ]
  },
  {
   "cell_type": "code",
   "execution_count": 25,
   "metadata": {},
   "outputs": [
    {
     "data": {
      "application/vnd.jupyter.widget-view+json": {
       "model_id": "4e7c5b26b4454f5a8685c9d064f78912",
       "version_major": 2,
       "version_minor": 0
      },
      "text/plain": [
       "  0%|          | 0/1680 [00:00<?, ?it/s]"
      ]
     },
     "metadata": {},
     "output_type": "display_data"
    },
    {
     "name": "stdout",
     "output_type": "stream",
     "text": [
      "CPU times: total: 3min 15s\n",
      "Wall time: 30 s\n"
     ]
    }
   ],
   "source": [
    "%%time\n",
    "\n",
    "embedding_model.to(\"cuda\")\n",
    "\n",
    "for item in tqdm(pages_and_chunks_over_min_token_len):\n",
    "    item[\"embedding\"] = embedding_model.encode(item[\"sentence_chunk\"])"
   ]
  },
  {
   "cell_type": "code",
   "execution_count": 26,
   "metadata": {},
   "outputs": [
    {
     "name": "stdout",
     "output_type": "stream",
     "text": [
      "CPU times: total: 0 ns\n",
      "Wall time: 0 ns\n"
     ]
    },
    {
     "data": {
      "text/plain": [
       "'The chloride AI for adults, set by the IOM, is 2,300 milligrams. Therefore just ⅔ teaspoon of table salt per day is sufficient for chloride as well as sodium. The AIs for other age groups are listed in Table 3.7 “Adequate Intakes for Chloride”. Table 3.7 Adequate Intakes for Chloride Chloride | 191'"
      ]
     },
     "execution_count": 26,
     "metadata": {},
     "output_type": "execute_result"
    }
   ],
   "source": [
    "%%time\n",
    "\n",
    "text_chunks = [item[\"sentence_chunk\"] for item in pages_and_chunks_over_min_token_len]\n",
    "text_chunks[293]"
   ]
  },
  {
   "cell_type": "code",
   "execution_count": 27,
   "metadata": {},
   "outputs": [
    {
     "data": {
      "text/plain": [
       "1680"
      ]
     },
     "execution_count": 27,
     "metadata": {},
     "output_type": "execute_result"
    }
   ],
   "source": [
    "len(text_chunks)"
   ]
  },
  {
   "cell_type": "code",
   "execution_count": 28,
   "metadata": {},
   "outputs": [
    {
     "name": "stdout",
     "output_type": "stream",
     "text": [
      "CPU times: total: 42.1 s\n",
      "Wall time: 13 s\n"
     ]
    },
    {
     "data": {
      "text/plain": [
       "tensor([[ 0.0674,  0.0902, -0.0051,  ..., -0.0221, -0.0232,  0.0126],\n",
       "        [ 0.0552,  0.0592, -0.0166,  ..., -0.0120, -0.0103,  0.0227],\n",
       "        [ 0.0280,  0.0340, -0.0206,  ..., -0.0054,  0.0213,  0.0313],\n",
       "        ...,\n",
       "        [ 0.0771,  0.0098, -0.0122,  ..., -0.0409, -0.0752, -0.0241],\n",
       "        [ 0.1030, -0.0165,  0.0083,  ..., -0.0574, -0.0283, -0.0295],\n",
       "        [ 0.0864, -0.0125, -0.0113,  ..., -0.0522, -0.0337, -0.0299]],\n",
       "       device='cuda:0')"
      ]
     },
     "execution_count": 28,
     "metadata": {},
     "output_type": "execute_result"
    }
   ],
   "source": [
    "%%time\n",
    "\n",
    "# Embed all text in batches\n",
    "text_chunk_embeddings = embedding_model.encode(text_chunks,\n",
    "                                              batch_size=32,\n",
    "                                              convert_to_tensor=True)\n",
    "\n",
    "text_chunk_embeddings"
   ]
  },
  {
   "cell_type": "markdown",
   "metadata": {},
   "source": [
    "### Save embeddings to file"
   ]
  },
  {
   "cell_type": "code",
   "execution_count": 29,
   "metadata": {},
   "outputs": [],
   "source": [
    "text_chunks_and_embeddings_df = pd.DataFrame(pages_and_chunks_over_min_token_len)\n",
    "embeddings_df_save_path = \"text_chunks_and_embeddings_df.csv\"\n",
    "text_chunks_and_embeddings_df.to_csv(embeddings_df_save_path, index=False)"
   ]
  },
  {
   "cell_type": "code",
   "execution_count": 30,
   "metadata": {},
   "outputs": [
    {
     "data": {
      "text/html": [
       "<div>\n",
       "<style scoped>\n",
       "    .dataframe tbody tr th:only-of-type {\n",
       "        vertical-align: middle;\n",
       "    }\n",
       "\n",
       "    .dataframe tbody tr th {\n",
       "        vertical-align: top;\n",
       "    }\n",
       "\n",
       "    .dataframe thead th {\n",
       "        text-align: right;\n",
       "    }\n",
       "</style>\n",
       "<table border=\"1\" class=\"dataframe\">\n",
       "  <thead>\n",
       "    <tr style=\"text-align: right;\">\n",
       "      <th></th>\n",
       "      <th>page_number</th>\n",
       "      <th>sentence_chunk</th>\n",
       "      <th>chunk_char_count</th>\n",
       "      <th>chunk_word_count</th>\n",
       "      <th>chunk_token_count</th>\n",
       "      <th>embedding</th>\n",
       "    </tr>\n",
       "  </thead>\n",
       "  <tbody>\n",
       "    <tr>\n",
       "      <th>0</th>\n",
       "      <td>-39</td>\n",
       "      <td>Human Nutrition: 2020 Edition UNIVERSITY OF HA...</td>\n",
       "      <td>308</td>\n",
       "      <td>42</td>\n",
       "      <td>77.00</td>\n",
       "      <td>[ 6.74242750e-02  9.02281553e-02 -5.09548420e-...</td>\n",
       "    </tr>\n",
       "    <tr>\n",
       "      <th>1</th>\n",
       "      <td>-38</td>\n",
       "      <td>Human Nutrition: 2020 Edition by University of...</td>\n",
       "      <td>210</td>\n",
       "      <td>30</td>\n",
       "      <td>52.50</td>\n",
       "      <td>[ 5.52156307e-02  5.92139177e-02 -1.66167375e-...</td>\n",
       "    </tr>\n",
       "    <tr>\n",
       "      <th>2</th>\n",
       "      <td>-37</td>\n",
       "      <td>Contents Preface University of Hawai‘i at Māno...</td>\n",
       "      <td>766</td>\n",
       "      <td>116</td>\n",
       "      <td>191.50</td>\n",
       "      <td>[ 2.79802009e-02  3.39813903e-02 -2.06426457e-...</td>\n",
       "    </tr>\n",
       "    <tr>\n",
       "      <th>3</th>\n",
       "      <td>-36</td>\n",
       "      <td>Lifestyles and Nutrition University of Hawai‘i...</td>\n",
       "      <td>941</td>\n",
       "      <td>144</td>\n",
       "      <td>235.25</td>\n",
       "      <td>[ 6.82566836e-02  3.81275155e-02 -8.46855994e-...</td>\n",
       "    </tr>\n",
       "    <tr>\n",
       "      <th>4</th>\n",
       "      <td>-35</td>\n",
       "      <td>The Cardiovascular System University of Hawai‘...</td>\n",
       "      <td>998</td>\n",
       "      <td>152</td>\n",
       "      <td>249.50</td>\n",
       "      <td>[ 3.30264494e-02 -8.49768426e-03  9.57158674e-...</td>\n",
       "    </tr>\n",
       "  </tbody>\n",
       "</table>\n",
       "</div>"
      ],
      "text/plain": [
       "   page_number                                     sentence_chunk  \\\n",
       "0          -39  Human Nutrition: 2020 Edition UNIVERSITY OF HA...   \n",
       "1          -38  Human Nutrition: 2020 Edition by University of...   \n",
       "2          -37  Contents Preface University of Hawai‘i at Māno...   \n",
       "3          -36  Lifestyles and Nutrition University of Hawai‘i...   \n",
       "4          -35  The Cardiovascular System University of Hawai‘...   \n",
       "\n",
       "   chunk_char_count  chunk_word_count  chunk_token_count  \\\n",
       "0               308                42              77.00   \n",
       "1               210                30              52.50   \n",
       "2               766               116             191.50   \n",
       "3               941               144             235.25   \n",
       "4               998               152             249.50   \n",
       "\n",
       "                                           embedding  \n",
       "0  [ 6.74242750e-02  9.02281553e-02 -5.09548420e-...  \n",
       "1  [ 5.52156307e-02  5.92139177e-02 -1.66167375e-...  \n",
       "2  [ 2.79802009e-02  3.39813903e-02 -2.06426457e-...  \n",
       "3  [ 6.82566836e-02  3.81275155e-02 -8.46855994e-...  \n",
       "4  [ 3.30264494e-02 -8.49768426e-03  9.57158674e-...  "
      ]
     },
     "execution_count": 30,
     "metadata": {},
     "output_type": "execute_result"
    }
   ],
   "source": [
    "# Import saved file and view\n",
    "text_chunks_and_embeddings_df_load = pd.read_csv(embeddings_df_save_path)\n",
    "text_chunks_and_embeddings_df_load.head()"
   ]
  },
  {
   "cell_type": "markdown",
   "metadata": {},
   "source": [
    "## 2. RAG - Search and Answer"
   ]
  },
  {
   "cell_type": "markdown",
   "metadata": {},
   "source": [
    "### Similarity search"
   ]
  },
  {
   "cell_type": "code",
   "execution_count": 31,
   "metadata": {},
   "outputs": [
    {
     "data": {
      "text/html": [
       "<div>\n",
       "<style scoped>\n",
       "    .dataframe tbody tr th:only-of-type {\n",
       "        vertical-align: middle;\n",
       "    }\n",
       "\n",
       "    .dataframe tbody tr th {\n",
       "        vertical-align: top;\n",
       "    }\n",
       "\n",
       "    .dataframe thead th {\n",
       "        text-align: right;\n",
       "    }\n",
       "</style>\n",
       "<table border=\"1\" class=\"dataframe\">\n",
       "  <thead>\n",
       "    <tr style=\"text-align: right;\">\n",
       "      <th></th>\n",
       "      <th>page_number</th>\n",
       "      <th>sentence_chunk</th>\n",
       "      <th>chunk_char_count</th>\n",
       "      <th>chunk_word_count</th>\n",
       "      <th>chunk_token_count</th>\n",
       "      <th>embedding</th>\n",
       "    </tr>\n",
       "  </thead>\n",
       "  <tbody>\n",
       "    <tr>\n",
       "      <th>0</th>\n",
       "      <td>-39</td>\n",
       "      <td>Human Nutrition: 2020 Edition UNIVERSITY OF HA...</td>\n",
       "      <td>308</td>\n",
       "      <td>42</td>\n",
       "      <td>77.00</td>\n",
       "      <td>[0.067424275, 0.0902281553, -0.0050954842, -0....</td>\n",
       "    </tr>\n",
       "    <tr>\n",
       "      <th>1</th>\n",
       "      <td>-38</td>\n",
       "      <td>Human Nutrition: 2020 Edition by University of...</td>\n",
       "      <td>210</td>\n",
       "      <td>30</td>\n",
       "      <td>52.50</td>\n",
       "      <td>[0.0552156307, 0.0592139177, -0.0166167375, -0...</td>\n",
       "    </tr>\n",
       "    <tr>\n",
       "      <th>2</th>\n",
       "      <td>-37</td>\n",
       "      <td>Contents Preface University of Hawai‘i at Māno...</td>\n",
       "      <td>766</td>\n",
       "      <td>116</td>\n",
       "      <td>191.50</td>\n",
       "      <td>[0.0279802009, 0.0339813903, -0.0206426457, 0....</td>\n",
       "    </tr>\n",
       "    <tr>\n",
       "      <th>3</th>\n",
       "      <td>-36</td>\n",
       "      <td>Lifestyles and Nutrition University of Hawai‘i...</td>\n",
       "      <td>941</td>\n",
       "      <td>144</td>\n",
       "      <td>235.25</td>\n",
       "      <td>[0.0682566836, 0.0381275155, -0.00846855994, -...</td>\n",
       "    </tr>\n",
       "    <tr>\n",
       "      <th>4</th>\n",
       "      <td>-35</td>\n",
       "      <td>The Cardiovascular System University of Hawai‘...</td>\n",
       "      <td>998</td>\n",
       "      <td>152</td>\n",
       "      <td>249.50</td>\n",
       "      <td>[0.0330264494, -0.00849768426, 0.00957158674, ...</td>\n",
       "    </tr>\n",
       "    <tr>\n",
       "      <th>...</th>\n",
       "      <td>...</td>\n",
       "      <td>...</td>\n",
       "      <td>...</td>\n",
       "      <td>...</td>\n",
       "      <td>...</td>\n",
       "      <td>...</td>\n",
       "    </tr>\n",
       "    <tr>\n",
       "      <th>1675</th>\n",
       "      <td>1164</td>\n",
       "      <td>Flashcard Images Note: Most images in the flas...</td>\n",
       "      <td>1304</td>\n",
       "      <td>186</td>\n",
       "      <td>326.00</td>\n",
       "      <td>[0.0185622461, -0.0164277758, -0.0127045559, -...</td>\n",
       "    </tr>\n",
       "    <tr>\n",
       "      <th>1676</th>\n",
       "      <td>1164</td>\n",
       "      <td>Hazard Analysis Critical Control Points reused...</td>\n",
       "      <td>374</td>\n",
       "      <td>51</td>\n",
       "      <td>93.50</td>\n",
       "      <td>[0.0334720798, -0.0570440665, 0.015148947, -0....</td>\n",
       "    </tr>\n",
       "    <tr>\n",
       "      <th>1677</th>\n",
       "      <td>1165</td>\n",
       "      <td>ShareAlike 11. Organs reused “Pancreas Organ A...</td>\n",
       "      <td>1285</td>\n",
       "      <td>175</td>\n",
       "      <td>321.25</td>\n",
       "      <td>[0.0770515352, 0.00978557486, -0.0121817607, 0...</td>\n",
       "    </tr>\n",
       "    <tr>\n",
       "      <th>1678</th>\n",
       "      <td>1165</td>\n",
       "      <td>Sucrose reused “Figure 03 02 05” by OpenStax B...</td>\n",
       "      <td>410</td>\n",
       "      <td>63</td>\n",
       "      <td>102.50</td>\n",
       "      <td>[0.10304518, -0.0164701659, 0.00826845318, 0.0...</td>\n",
       "    </tr>\n",
       "    <tr>\n",
       "      <th>1679</th>\n",
       "      <td>1166</td>\n",
       "      <td>23. Vitamin D reused “The Functions of Vitamin...</td>\n",
       "      <td>250</td>\n",
       "      <td>39</td>\n",
       "      <td>62.50</td>\n",
       "      <td>[0.0863773674, -0.0125358775, -0.0112746563, 0...</td>\n",
       "    </tr>\n",
       "  </tbody>\n",
       "</table>\n",
       "<p>1680 rows × 6 columns</p>\n",
       "</div>"
      ],
      "text/plain": [
       "      page_number                                     sentence_chunk  \\\n",
       "0             -39  Human Nutrition: 2020 Edition UNIVERSITY OF HA...   \n",
       "1             -38  Human Nutrition: 2020 Edition by University of...   \n",
       "2             -37  Contents Preface University of Hawai‘i at Māno...   \n",
       "3             -36  Lifestyles and Nutrition University of Hawai‘i...   \n",
       "4             -35  The Cardiovascular System University of Hawai‘...   \n",
       "...           ...                                                ...   \n",
       "1675         1164  Flashcard Images Note: Most images in the flas...   \n",
       "1676         1164  Hazard Analysis Critical Control Points reused...   \n",
       "1677         1165  ShareAlike 11. Organs reused “Pancreas Organ A...   \n",
       "1678         1165  Sucrose reused “Figure 03 02 05” by OpenStax B...   \n",
       "1679         1166  23. Vitamin D reused “The Functions of Vitamin...   \n",
       "\n",
       "      chunk_char_count  chunk_word_count  chunk_token_count  \\\n",
       "0                  308                42              77.00   \n",
       "1                  210                30              52.50   \n",
       "2                  766               116             191.50   \n",
       "3                  941               144             235.25   \n",
       "4                  998               152             249.50   \n",
       "...                ...               ...                ...   \n",
       "1675              1304               186             326.00   \n",
       "1676               374                51              93.50   \n",
       "1677              1285               175             321.25   \n",
       "1678               410                63             102.50   \n",
       "1679               250                39              62.50   \n",
       "\n",
       "                                              embedding  \n",
       "0     [0.067424275, 0.0902281553, -0.0050954842, -0....  \n",
       "1     [0.0552156307, 0.0592139177, -0.0166167375, -0...  \n",
       "2     [0.0279802009, 0.0339813903, -0.0206426457, 0....  \n",
       "3     [0.0682566836, 0.0381275155, -0.00846855994, -...  \n",
       "4     [0.0330264494, -0.00849768426, 0.00957158674, ...  \n",
       "...                                                 ...  \n",
       "1675  [0.0185622461, -0.0164277758, -0.0127045559, -...  \n",
       "1676  [0.0334720798, -0.0570440665, 0.015148947, -0....  \n",
       "1677  [0.0770515352, 0.00978557486, -0.0121817607, 0...  \n",
       "1678  [0.10304518, -0.0164701659, 0.00826845318, 0.0...  \n",
       "1679  [0.0863773674, -0.0125358775, -0.0112746563, 0...  \n",
       "\n",
       "[1680 rows x 6 columns]"
      ]
     },
     "execution_count": 31,
     "metadata": {},
     "output_type": "execute_result"
    }
   ],
   "source": [
    "import random\n",
    "import torch\n",
    "import numpy as np\n",
    "import pandas as pd\n",
    "\n",
    "device  = \"cuda\" if torch.cuda.is_available() else \"cpu\"\n",
    "\n",
    "# Import text and embedding df\n",
    "text_chunks_and_embeddings_df = pd.read_csv(\"text_chunks_and_embeddings_df.csv\")\n",
    "\n",
    "# Convert embedding column to np.array (it got converted to string when it saved to CSV)\n",
    "text_chunks_and_embeddings_df[\"embedding\"] = text_chunks_and_embeddings_df[\"embedding\"].apply(lambda x: np.fromstring(x.strip(\"[]\"), sep=\" \"))\n",
    "\n",
    "# Convert our embeddings into torch.tensor\n",
    "embeddings = torch.tensor(np.array(text_chunks_and_embeddings_df[\"embedding\"].to_list()), dtype=torch.float32).to(device)\n",
    "\n",
    "# Convert text and embeddings df to list of dicts\n",
    "pages_and_chunks = text_chunks_and_embeddings_df.to_dict(orient=\"records\")\n",
    "\n",
    "text_chunks_and_embeddings_df"
   ]
  },
  {
   "cell_type": "code",
   "execution_count": 32,
   "metadata": {},
   "outputs": [
    {
     "data": {
      "text/plain": [
       "0       [0.067424275, 0.0902281553, -0.0050954842, -0....\n",
       "1       [0.0552156307, 0.0592139177, -0.0166167375, -0...\n",
       "2       [0.0279802009, 0.0339813903, -0.0206426457, 0....\n",
       "3       [0.0682566836, 0.0381275155, -0.00846855994, -...\n",
       "4       [0.0330264494, -0.00849768426, 0.00957158674, ...\n",
       "                              ...                        \n",
       "1675    [0.0185622461, -0.0164277758, -0.0127045559, -...\n",
       "1676    [0.0334720798, -0.0570440665, 0.015148947, -0....\n",
       "1677    [0.0770515352, 0.00978557486, -0.0121817607, 0...\n",
       "1678    [0.10304518, -0.0164701659, 0.00826845318, 0.0...\n",
       "1679    [0.0863773674, -0.0125358775, -0.0112746563, 0...\n",
       "Name: embedding, Length: 1680, dtype: object"
      ]
     },
     "execution_count": 32,
     "metadata": {},
     "output_type": "execute_result"
    }
   ],
   "source": [
    "text_chunks_and_embeddings_df[\"embedding\"]"
   ]
  },
  {
   "cell_type": "code",
   "execution_count": 33,
   "metadata": {},
   "outputs": [
    {
     "data": {
      "text/plain": [
       "torch.Size([1680, 768])"
      ]
     },
     "execution_count": 33,
     "metadata": {},
     "output_type": "execute_result"
    }
   ],
   "source": [
    "embeddings.shape"
   ]
  },
  {
   "cell_type": "code",
   "execution_count": 34,
   "metadata": {},
   "outputs": [
    {
     "name": "stderr",
     "output_type": "stream",
     "text": [
      "C:\\Users\\devel\\Work\\AIMLDS\\simple-local-rag\\venv\\Lib\\site-packages\\huggingface_hub\\file_download.py:1132: FutureWarning: `resume_download` is deprecated and will be removed in version 1.0.0. Downloads always resume when possible. If you want to force a new download, use `force_download=True`.\n",
      "  warnings.warn(\n"
     ]
    }
   ],
   "source": [
    "# Create model\n",
    "from sentence_transformers import util, SentenceTransformer\n",
    "\n",
    "embedding_model = SentenceTransformer(model_name_or_path=\"all-mpnet-base-v2\",\n",
    "                                     device=device)"
   ]
  },
  {
   "cell_type": "code",
   "execution_count": 35,
   "metadata": {},
   "outputs": [
    {
     "name": "stdout",
     "output_type": "stream",
     "text": [
      "Query: Macronutrient functions\n",
      "[INFO] Time taken to get scores on 1680 embeddings: 0.00169 seconds.\n"
     ]
    },
    {
     "data": {
      "text/plain": [
       "torch.return_types.topk(\n",
       "values=tensor([0.6843, 0.6717, 0.6517, 0.6493, 0.6478], device='cuda:0'),\n",
       "indices=tensor([42, 47, 46, 51, 41], device='cuda:0'))"
      ]
     },
     "execution_count": 35,
     "metadata": {},
     "output_type": "execute_result"
    }
   ],
   "source": [
    "# 1. Define the query\n",
    "query = \"Macronutrient functions\"\n",
    "print(f\"Query: {query}\")\n",
    "\n",
    "# 2. Embed the query\n",
    "query_embedding = embedding_model.encode(query, convert_to_tensor=True).to(device)\n",
    "\n",
    "# 3. Get similarity scores with the dot product (use cosine similarity if outputs of model aren't normalized)\n",
    "from time import perf_counter as timer\n",
    "start_time = timer()\n",
    "dot_scores = util.dot_score(a=query_embedding,\n",
    "                           b=embeddings)[0]\n",
    "end_time = timer()\n",
    "\n",
    "print(f\"[INFO] Time taken to get scores on {len(embeddings)} embeddings: {end_time-start_time:.5f} seconds.\")\n",
    "\n",
    "# Get the top-k results (we'll get top 5)\n",
    "top_results_dot_product = torch.topk(dot_scores, k=5)\n",
    "top_results_dot_product"
   ]
  },
  {
   "cell_type": "code",
   "execution_count": 36,
   "metadata": {},
   "outputs": [],
   "source": [
    "import textwrap\n",
    "\n",
    "def print_wrapped(text, wrap_length=80):\n",
    "    wrapped_text = textwrap.fill(text, wrap_length)\n",
    "    print(wrapped_text)"
   ]
  },
  {
   "cell_type": "code",
   "execution_count": 37,
   "metadata": {},
   "outputs": [
    {
     "name": "stdout",
     "output_type": "stream",
     "text": [
      "Query: Macronutrient functions\n",
      "\n",
      "Results:\n",
      "Score: 0.6843\n",
      "Text:\n",
      "Macronutrients Nutrients that are needed in large amounts are called macronutrients. There are three classes of macronutrients: carbohydrates, lipids, and proteins. These can be metabolically processed into cellular energy. The energy from macronutrients comes from their chemical bonds. This chemical energy is converted into cellular energy that is then utilized to perform work, allowing our bodies to conduct their basic functions. A unit of measurement of food energy is the calorie. On nutrition food labels the amount given for “calories” is actually equivalent to each calorie multiplied by one thousand. A kilocalorie (one thousand calories, denoted with a small “c”) is synonymous with the “Calorie” (with a capital “C”) on nutrition food labels. Water is also a macronutrient in the sense that you require a large amount of it, but unlike the other macronutrients, it does not yield calories. Carbohydrates Carbohydrates are molecules composed of carbon, hydrogen, and oxygen.\n",
      "Page number: 5\n",
      "\n",
      "\n",
      "Score: 0.6717\n",
      "Text:\n",
      "Water There is one other nutrient that we must have in large quantities: water. Water does not contain carbon, but is composed of two hydrogens and one oxygen per molecule of water. More than 60 percent of your total body weight is water. Without it, nothing could be transported in or out of the body, chemical reactions would not occur, organs would not be cushioned, and body temperature would fluctuate widely. On average, an adult consumes just over two liters of water per day from food and drink combined. Since water is so critical for life’s basic processes, the amount of water input and output is supremely important, a topic we will explore in detail in Chapter 4. Micronutrients Micronutrients are nutrients required by the body in lesser amounts, but are still essential for carrying out bodily functions. Micronutrients include all the essential minerals and vitamins. There are sixteen essential minerals and thirteen vitamins (See Table 1.1 “Minerals and Their Major Functions” and Table 1.2 “Vitamins and Their Major Functions” for a complete list and their major functions). In contrast to carbohydrates, lipids, and proteins, micronutrients are not sources of energy (calories), but they assist in the process as cofactors or components of enzymes (i.e., coenzymes).\n",
      "Page number: 8\n",
      "\n",
      "\n",
      "Score: 0.6517\n",
      "Text:\n",
      "Figure 1.1 The Macronutrie nts: Carbohydrat es, Lipids, Protein, and Water Proteins Proteins are macromolecules composed of chains of subunits called amino acids. Amino acids are simple subunits composed of carbon, oxygen, hydrogen, and nitrogen. Food sources of proteins include meats, dairy products, seafood, and a variety of different plant- based foods, most notably soy. The word protein comes from a Greek word meaning “of primary importance,” which is an apt description of these macronutrients; they are also known colloquially as the “workhorses” of life. Proteins provide four kilocalories of energy per gram; however providing energy is not protein’s most important function. Proteins provide structure to bones, muscles and skin, and play a role in conducting most of the chemical reactions that take place in the body. Scientists estimate that greater than one-hundred thousand different proteins exist within the human body. The genetic codes in DNA are basically protein recipes that determine the order in which 20 different amino acids are bound together to make thousands of specific proteins. Figure 1.1 The Macronutrients: Carbohydrates, Lipids, Protein, and Water Introduction | 7\n",
      "Page number: 7\n",
      "\n",
      "\n",
      "Score: 0.6493\n",
      "Text:\n",
      "Vitamins Major Functions Water-soluble Thiamin (B1) Coenzyme, energy metabolism assistance Riboflavin (B2 ) Coenzyme, energy metabolism assistance Niacin (B3) Coenzyme, energy metabolism assistance Pantothenic acid (B5) Coenzyme, energy metabolism assistance Pyridoxine (B6) Coenzyme, amino acid synthesis assistance Biotin (B7) Coenzyme, amino acid and fatty acid metabolism Folate (B9) Coenzyme, essential for growth Cobalamin (B12) Coenzyme, red blood cell synthesis C (ascorbic acid) Collagen synthesis, antioxidant Fat-soluble A Vision, reproduction, immune system function D Bone and teeth health maintenance, immune system function E Antioxidant, cell membrane protection K Bone and teeth health maintenance, blood clotting Vitamin deficiencies can cause severe health problems and even death. For example, a deficiency in niacin causes a disease called pellagra, which was common in the early twentieth century in some parts of America. The common signs and symptoms of pellagra are known as the “4D’s—diarrhea, dermatitis, dementia, and death.” Until scientists found out that better diets relieved the signs and symptoms of pellagra, many people with the disease ended up hospitalized in insane asylums awaiting death. Other vitamins were also found to prevent certain disorders and diseases such as scurvy (vitamin C), night blindness vitamin A, and rickets (vitamin D). Table 1.3 Functions of Nutrients Introduction | 11\n",
      "Page number: 11\n",
      "\n",
      "\n",
      "Score: 0.6478\n",
      "Text:\n",
      "Learning Objectives By the end of this chapter, you will be able to: • Describe basic concepts in nutrition • Describe factors that affect your nutritional needs • Describe the importance of research and scientific methods to understanding nutrition What are Nutrients? The foods we eat contain nutrients. Nutrients are substances required by the body to perform its basic functions. Nutrients must be obtained from our diet, since the human body does not synthesize or produce them. Nutrients have one or more of three basic functions: they provide energy, contribute to body structure, and/or regulate chemical processes in the body. These basic functions allow us to detect and respond to environmental surroundings, move, excrete wastes, respire (breathe), grow, and reproduce. There are six classes of nutrients required for the body to function and maintain overall health. These are carbohydrates, lipids, proteins, water, vitamins, and minerals. Foods also contain non-nutrients that may be harmful (such as natural toxins common in plant foods and additives like some dyes and preservatives) or beneficial (such as antioxidants). 4 | Introduction\n",
      "Page number: 4\n",
      "\n",
      "\n"
     ]
    }
   ],
   "source": [
    "query = \"Macronutrient functions\"\n",
    "print(f\"Query: {query}\\n\")\n",
    "print(\"Results:\")\n",
    "# Loop through zipped together scores and indices from torch.topk\n",
    "for score, idx in zip(top_results_dot_product[0], top_results_dot_product[1]):\n",
    "    print(f\"Score: {score:.4f}\")\n",
    "    print(\"Text:\")\n",
    "    print(pages_and_chunks[idx][\"sentence_chunk\"])\n",
    "    print(f\"Page number: {pages_and_chunks[idx]['page_number']}\")\n",
    "    print(\"\\n\")"
   ]
  },
  {
   "cell_type": "markdown",
   "metadata": {},
   "source": [
    "### Functioning our semantic search pipeline"
   ]
  },
  {
   "cell_type": "code",
   "execution_count": 38,
   "metadata": {},
   "outputs": [],
   "source": [
    "def retrieve_relevant_resources(query, embeddings: torch.tensor, model=embedding_model, n_resources_to_return=10):\n",
    "    \"\"\"\n",
    "    Embeds a query with model and returns top-k scored and indices from embeddings\n",
    "    \"\"\"\n",
    "\n",
    "    # Embed the query\n",
    "    query_embedding = model.encode(query, convert_to_tensor=True)\n",
    "    # print(query)\n",
    "\n",
    "    # Get dot product scores on embeddings\n",
    "    start_time = timer()\n",
    "    dot_scores = util.dot_score(query_embedding, embeddings)[0]\n",
    "    end_time = timer()\n",
    "\n",
    "    print(f\"[INFO] Time taken to get scores on {len(embeddings)} embeddings: {end_time-start_time:.5f} seconds.\")\n",
    "\n",
    "    scores, indices = torch.topk(dot_scores, n_resources_to_return)\n",
    "\n",
    "    return scores, indices\n",
    "\n",
    "def print_top_results_and_scores(query, \n",
    "                                 embeddings: torch.tensor, \n",
    "                                 pages_and_chunks=pages_and_chunks, \n",
    "                                 n_resources_to_return=5):\n",
    "    \"\"\"\n",
    "    Finds relevant passages given a query and prints them out along with their scores\n",
    "    \"\"\"\n",
    "    scores, indices = retrieve_relevant_resources(query=query, embeddings=embeddings, n_resources_to_return=n_resources_to_return)\n",
    "    \n",
    "    # Loop through zipped together scores and indices from torch.topk\n",
    "    for score, idx in zip(scores, indices):\n",
    "        print(f\"Score: {score:.4f}\")\n",
    "        print(\"Text:\")\n",
    "        print(pages_and_chunks[idx][\"sentence_chunk\"])\n",
    "        print(f\"Page number: {pages_and_chunks[idx]['page_number']}\")\n",
    "        print(\"\\n\")"
   ]
  },
  {
   "cell_type": "code",
   "execution_count": 39,
   "metadata": {},
   "outputs": [
    {
     "name": "stdout",
     "output_type": "stream",
     "text": [
      "[INFO] Time taken to get scores on 1680 embeddings: 0.00010 seconds.\n",
      "Score: 0.6964\n",
      "Text:\n",
      "• Change it up a bit and experience the taste and satisfaction of other whole grains such as barley, quinoa, and bulgur. • Eat snacks high in fiber, such as almonds, pistachios, raisins, and air-popped popcorn. Add an artichoke and green peas to your dinner plate more 276 | Carbohydrates and Personal Diet Choices\n",
      "Page number: 276\n",
      "\n",
      "\n",
      "Score: 0.6810\n",
      "Text:\n",
      "Dietary fiber is categorized as either water-soluble or insoluble. Some examples of soluble fibers are inulin, pectin, and guar gum and they are found in peas, beans, oats, barley, and rye. Cellulose and lignin are insoluble fibers and a few dietary sources of them are whole-grain foods, flax, cauliflower, and avocados. Cellulose is the most abundant fiber in plants, making up the cell walls and providing structure. Soluble fibers are more easily accessible to bacterial enzymes in the large intestine so they can be broken down to a greater extent than insoluble fibers, but even some breakdown of cellulose and other insoluble fibers occurs. The last class of fiber is functional fiber. Functional fibers have been added to foods and have been shown to provide health benefits to humans. Functional fibers may be extracted from plants and purified or synthetically made. An example of a functional fiber is psyllium-seed husk. Scientific studies show that consuming psyllium-seed husk reduces blood-cholesterol levels and this health claim has been approved by the FDA.\n",
      "Page number: 237\n",
      "\n",
      "\n",
      "Score: 0.5566\n",
      "Text:\n",
      "Humans and animals store glucose energy from starches in the form of the very large molecule, glycogen. It has many branches that allow it to break down quickly when energy is needed by cells in the body. It is predominantly found in liver and muscle tissue in animals. Dietary Fibers Dietary fibers are polysaccharides that are highly branched and cross-linked. Some dietary fibers are pectin, gums, cellulose, hemicellulose, and lignin. Lignin, however, is not composed of carbohydrate units. Humans do not produce the enzymes that can break down dietary fiber; however, bacteria in the large intestine (colon) do. Dietary fibers are very beneficial to our health. The Dietary Guidelines Advisory Committee states that there is enough scientific evidence to support that diets high in fiber reduce the risk for obesity and diabetes, which are primary risk factors for cardiovascular disease.2 2. US Department of Agriculture.\n",
      "Page number: 236\n",
      "\n",
      "\n",
      "Score: 0.5344\n",
      "Text:\n",
      "potatoes, broccoli, apples, mango, papaya , guavas, blueberries, and strawberries in main and side dishes. Vary your choices to get the benefit of as many different vegetables and fruits as you can. You may choose to drink fruit juice as a replacement for eating fruit. (As long as the juice is 100 percent fruit juice and only half your fruit intake is replaced with juice, this is an acceptable exchange.)For snacks, eat fruits, vegetables, or unsalted nuts. Fill a quarter of your plate with whole grains such as 100 percent whole-grain cereals, breads, crackers, rice, and pasta. Half of your daily grain intake should be whole grains. Read the ingredients list on food labels carefully to determine if a food is comprised of whole grains. Select a variety of protein foods to improve nutrient intake and promote health benefits. Each week, be sure to include a nice array of protein sources in your diet, such as nuts, seeds, beans, legumes, poultry, soy, and seafood.\n",
      "Page number: 747\n",
      "\n",
      "\n",
      "Score: 0.5187\n",
      "Text:\n",
      "Foods Total Carbohydrates Sugars Fiber Added Sugars Banana 27 (1 medium) 14.40 3.1 0 Lentils 40 (1 c.) 3.50 16.0 0 Snap beans 8.7 (1 c.) 1.60 4.0 0 Green pepper 5.5 (1 medium) 2.90 2.0 0 Corn tortilla 10.7 (1) 0.20 1.5 0 Bread, wheat bran 17.2 (1 slice) 3.50 1.4 3.4 Bread, rye 15.5 (1 slice) 1.20 1.9 1.0 Bagel (plain) 53 (1 medium) 5.30 2.3 4.8 Brownie 36 (1 square) 20.50 1.2 20.0 Oatmeal cookie 22.3 (1 oz.) 12.00 2.0 7.7 Cornflakes 23 (1 c.) 1.50 0.3 1.5 Pretzels 47 (10 twists) 1.30 1.7 0 Popcorn (homemade) 58 (100 g) 0.50 10.0 0 Skim milk 12 (1 c.) 12.00 0 0 Cream (half and half) 0.65 (1 Tbs.) 0.02 0 0 Cream substitute 1.0 (1 tsp.) 1.00 0 1.0 Cheddar cheese 1.3 (1 slice) 0.50 0 0 Yogurt (with fruit) 32.3 (6 oz.) 32.30 0 19.4 Caesar dressing 2.8 (1 Tbs.) 2.80 0 2.4 Sources: • National Nutrient Database for Standard Reference. US Department of Agriculture.http://www.nal.usda.gov/fnic/ foodcomp/search/. Updated December 7, 2011. Accessed September 17, 2017. • Database for the Added Sugars Content of Selected Foods.\n",
      "Page number: 273\n",
      "\n",
      "\n"
     ]
    }
   ],
   "source": [
    "query = \"foods high in fiber\"\n",
    "# retrieve_relevant_resources(query, embeddings)\n",
    "print_top_results_and_scores(query=query, embeddings=embeddings)"
   ]
  },
  {
   "cell_type": "markdown",
   "metadata": {},
   "source": [
    "### Getting an LLM for local generation "
   ]
  },
  {
   "cell_type": "code",
   "execution_count": 40,
   "metadata": {},
   "outputs": [
    {
     "name": "stdout",
     "output_type": "stream",
     "text": [
      "Available GPU memory: 8 GB\n"
     ]
    }
   ],
   "source": [
    "# Get GPU available memory\n",
    "import torch\n",
    "gpu_memory_bytes = torch.cuda.get_device_properties(0).total_memory\n",
    "gpu_memory_gb = round(gpu_memory_bytes / (2 ** 30))\n",
    "print(f\"Available GPU memory: {gpu_memory_gb} GB\")"
   ]
  },
  {
   "cell_type": "code",
   "execution_count": 41,
   "metadata": {},
   "outputs": [
    {
     "name": "stdout",
     "output_type": "stream",
     "text": [
      "GPU memory: 8 | Recommended model: Gemma 2B in 4-bit precision.\n",
      "use_quantization_config set to: True\n",
      "model_id set to: google/gemma-2b-it\n"
     ]
    }
   ],
   "source": [
    "# Note: the following is Gemma focused, however, there are more and more LLMs of the 2B and 7B size appearing for local use.\n",
    "if gpu_memory_gb < 5.1:\n",
    "    print(f\"Your available GPU memory is {gpu_memory_gb}GB, you may not have enough memory to run a Gemma LLM locally without quantization.\")\n",
    "elif gpu_memory_gb < 8.1:\n",
    "    print(f\"GPU memory: {gpu_memory_gb} | Recommended model: Gemma 2B in 4-bit precision.\")\n",
    "    use_quantization_config = True \n",
    "    model_id = \"google/gemma-2b-it\"\n",
    "elif gpu_memory_gb < 19.0:\n",
    "    print(f\"GPU memory: {gpu_memory_gb} | Recommended model: Gemma 2B in float16 or Gemma 7B in 4-bit precision.\")\n",
    "    use_quantization_config = False \n",
    "    model_id = \"google/gemma-2b-it\"\n",
    "elif gpu_memory_gb > 19.0:\n",
    "    print(f\"GPU memory: {gpu_memory_gb} | Recommend model: Gemma 7B in 4-bit or float16 precision.\")\n",
    "    use_quantization_config = False \n",
    "    model_id = \"google/gemma-7b-it\"\n",
    "\n",
    "print(f\"use_quantization_config set to: {use_quantization_config}\")\n",
    "print(f\"model_id set to: {model_id}\")"
   ]
  },
  {
   "cell_type": "markdown",
   "metadata": {},
   "source": [
    "### Loading an LLM locally"
   ]
  },
  {
   "cell_type": "code",
   "execution_count": 42,
   "metadata": {},
   "outputs": [
    {
     "data": {
      "application/vnd.jupyter.widget-view+json": {
       "model_id": "0f0a3c9ce1d74cea90cce53117e96628",
       "version_major": 2,
       "version_minor": 0
      },
      "text/plain": [
       "Loading checkpoint shards:   0%|          | 0/2 [00:00<?, ?it/s]"
      ]
     },
     "metadata": {},
     "output_type": "display_data"
    }
   ],
   "source": [
    "import torch\n",
    "from transformers import AutoTokenizer, AutoModelForCausalLM\n",
    "from transformers.utils import is_flash_attn_2_available\n",
    "\n",
    "# 1. Create a quantization config\n",
    "# Note: requires !pip install bitsandbytes accelerate\n",
    "from transformers import BitsAndBytesConfig\n",
    "quantization_config = BitsAndBytesConfig(load_in_4bit=True,\n",
    "                                        bnb_4bit_compute_dtype=torch.float16)\n",
    "\n",
    "# Bonus: flash attention 2 = faster attention mechanism\n",
    "if (is_flash_attn_2_available()) and torch.cuda.get_device_capability(0)[0] >= 8:\n",
    "    attn_implementation = \"flash_attention_2\"\n",
    "else:\n",
    "    attn_implementation = \"sdpa\" # scaled dot product attention\n",
    "\n",
    "# 2. Pick a model we'd like to use\n",
    "# model_id already set\n",
    "\n",
    "# 3. Instantiate tokenizer\n",
    "tokenizer = AutoTokenizer.from_pretrained(pretrained_model_name_or_path=model_id)\n",
    "\n",
    "# 4. Instantiate the model\n",
    "llm_model = AutoModelForCausalLM.from_pretrained(pretrained_model_name_or_path=model_id,\n",
    "                                                torch_dtype=torch.float16,\n",
    "                                                quantization_config=quantization_config if use_quantization_config else None,\n",
    "                                                low_cpu_mem_usage=False,\n",
    "                                                attn_implementation=attn_implementation)\n",
    "\n",
    "if not use_quantization_config:\n",
    "    llm_model.to(\"cuda\")"
   ]
  },
  {
   "cell_type": "code",
   "execution_count": 43,
   "metadata": {},
   "outputs": [
    {
     "data": {
      "text/plain": [
       "GemmaForCausalLM(\n",
       "  (model): GemmaModel(\n",
       "    (embed_tokens): Embedding(256000, 2048, padding_idx=0)\n",
       "    (layers): ModuleList(\n",
       "      (0-17): 18 x GemmaDecoderLayer(\n",
       "        (self_attn): GemmaSdpaAttention(\n",
       "          (q_proj): Linear4bit(in_features=2048, out_features=2048, bias=False)\n",
       "          (k_proj): Linear4bit(in_features=2048, out_features=256, bias=False)\n",
       "          (v_proj): Linear4bit(in_features=2048, out_features=256, bias=False)\n",
       "          (o_proj): Linear4bit(in_features=2048, out_features=2048, bias=False)\n",
       "          (rotary_emb): GemmaRotaryEmbedding()\n",
       "        )\n",
       "        (mlp): GemmaMLP(\n",
       "          (gate_proj): Linear4bit(in_features=2048, out_features=16384, bias=False)\n",
       "          (up_proj): Linear4bit(in_features=2048, out_features=16384, bias=False)\n",
       "          (down_proj): Linear4bit(in_features=16384, out_features=2048, bias=False)\n",
       "          (act_fn): GELUActivation()\n",
       "        )\n",
       "        (input_layernorm): GemmaRMSNorm()\n",
       "        (post_attention_layernorm): GemmaRMSNorm()\n",
       "      )\n",
       "    )\n",
       "    (norm): GemmaRMSNorm()\n",
       "  )\n",
       "  (lm_head): Linear(in_features=2048, out_features=256000, bias=False)\n",
       ")"
      ]
     },
     "execution_count": 43,
     "metadata": {},
     "output_type": "execute_result"
    }
   ],
   "source": [
    "llm_model"
   ]
  },
  {
   "cell_type": "code",
   "execution_count": 44,
   "metadata": {},
   "outputs": [
    {
     "data": {
      "text/plain": [
       "1515268096"
      ]
     },
     "execution_count": 44,
     "metadata": {},
     "output_type": "execute_result"
    }
   ],
   "source": [
    "def get_model_num_params(model):\n",
    "    return sum([param.numel() for param in model.parameters()])\n",
    "\n",
    "get_model_num_params(llm_model)"
   ]
  },
  {
   "cell_type": "code",
   "execution_count": 45,
   "metadata": {},
   "outputs": [
    {
     "data": {
      "text/plain": [
       "{'model_mem_bytes': 2106740736, 'model_mem_mb': 2009.14, 'model_mem_gb': 1.96}"
      ]
     },
     "execution_count": 45,
     "metadata": {},
     "output_type": "execute_result"
    }
   ],
   "source": [
    "def get_model_mem_size(model):\n",
    "    # Get model parameters and buffer sizes\n",
    "    mem_params = sum([param.nelement() * param.element_size() for param in model.parameters()])\n",
    "    mem_buffers = sum([buf.nelement() * buf.element_size() for buf in model.buffers()])\n",
    "\n",
    "    # Calculate model sizes\n",
    "    model_mem_bytes = mem_params + mem_buffers\n",
    "    model_mem_mb = model_mem_bytes / (1024**2)\n",
    "    model_mem_gb = model_mem_mb / 1024\n",
    "\n",
    "    return {\"model_mem_bytes\": model_mem_bytes,\n",
    "           \"model_mem_mb\": round(model_mem_mb, 2),\n",
    "           \"model_mem_gb\": round(model_mem_gb, 2)}\n",
    "\n",
    "get_model_mem_size(llm_model)"
   ]
  },
  {
   "cell_type": "markdown",
   "metadata": {},
   "source": [
    "To load in the model, we need min ~2 gigs of memory"
   ]
  },
  {
   "cell_type": "markdown",
   "metadata": {},
   "source": [
    "### Generate text with our LLM"
   ]
  },
  {
   "cell_type": "code",
   "execution_count": 46,
   "metadata": {},
   "outputs": [
    {
     "name": "stdout",
     "output_type": "stream",
     "text": [
      "Input text: \n",
      "What are macronutrients? What roles do they play in the human body? \n",
      "\n",
      "Prompt (formatted):\n",
      "<bos><start_of_turn>user\n",
      "What are macronutrients? What roles do they play in the human body?<end_of_turn>\n",
      "<start_of_turn>model\n",
      "\n"
     ]
    }
   ],
   "source": [
    "input_text = \"What are macronutrients? What roles do they play in the human body? \"\n",
    "print(f\"Input text: \\n{input_text}\")\n",
    "\n",
    "# Create prompt template for instruction-tuned model\n",
    "dialogue_template = [\n",
    "    {\"role\": \"user\",\n",
    "    \"content\": input_text}\n",
    "]\n",
    "\n",
    "# Apply the chat template\n",
    "prompt = tokenizer.apply_chat_template(conversation=dialogue_template,\n",
    "                                      tokenize=False,\n",
    "                                      add_generation_prompt=True)\n",
    "print(f\"\\nPrompt (formatted):\\n{prompt}\")"
   ]
  },
  {
   "cell_type": "code",
   "execution_count": 47,
   "metadata": {},
   "outputs": [
    {
     "name": "stderr",
     "output_type": "stream",
     "text": [
      "C:\\Users\\devel\\Work\\AIMLDS\\simple-local-rag\\venv\\Lib\\site-packages\\transformers\\models\\gemma\\modeling_gemma.py:561: UserWarning: 1Torch was not compiled with flash attention. (Triggered internally at ..\\aten\\src\\ATen\\native\\transformers\\cuda\\sdp_utils.cpp:455.)\n",
      "  attn_output = torch.nn.functional.scaled_dot_product_attention(\n"
     ]
    },
    {
     "name": "stdout",
     "output_type": "stream",
     "text": [
      "Model output (tokens):\n",
      "tensor([[     2,      2,    106,   1645,    108,   1841,    708, 186809, 184592,\n",
      "         235336,   2439,  16065,    749,    984,   1554,    575,    573,   3515,\n",
      "           2971, 235336,    107,    108,    106,   2516,    108,  21404, 235269,\n",
      "           1517, 235303, 235256,    476,  13367,    576, 186809, 184592, 235292,\n",
      "            109,    688,  12298,   1695, 184592,    688,    708,  37132,    674,\n",
      "            573,   2971,   4026,    575,   2910,  15992,    577,  10528,   1426,\n",
      "           2962, 235265,   2365,    708,   8727,    604,   4282,  55786,   7257,\n",
      "         235269,   3359, 235292,    109,    688, 235274, 235265,  10367,  19167,\n",
      "          66058,    108, 235290, 110165,  56227,   3658,    573,   2971,    675,\n",
      "           4134,   1593,  30859, 235269,    948,    603,    476,   1916,    576,\n",
      "           9347, 235265,    108, 235290,  96084,    708,   1671,    577,   2500,\n",
      "            578,  12158,  29703, 235269,   7872,  44760, 235269,    578,   7872,\n",
      "          53186, 235265,    108, 235290, 178190,   3658,   4134,    578,   1707,\n",
      "          33398,  48765, 235265,    109,    688, 235284, 235265,  12980,    578,\n",
      "          33060,  66058,    108, 235290,  72836,    578,  23042,    608,    708,\n",
      "           8727,    604,  14354,    578,  13900,   2962, 235265,    108, 235290,\n",
      "          33849,    603,   9523,    604,  15990,   5115, 235269,  12158, 235269,\n",
      "            578,  24091,   1411, 235265,    108, 235290, 157270,    578,  31740,\n",
      "           1154,   8456, 235269,  23042,    599, 235274, 235284, 235269,    578,\n",
      "          23042,    585,   2676,   4282,  55786,   7257, 235265,    109,    688,\n",
      "         235304, 235265, 106471,  66058,    108, 235290, 110165,  56227,    708,\n",
      "            573,   2971, 235303, 235256,   1872,   4303,    576,   4134,    604,\n",
      "           3309, 235290,   7617,   5728, 235265,    108, 235290,  96084,    708,\n",
      "           1671,    604,   1497, 235290,   7617,   4134,   7387,    578,  14976,\n",
      "          12158, 235265,    108, 235290, 178190,    708,   1671,    604,   4134,\n",
      "           7387,    578,  38823, 235265,    109,    688, 235310, 235265, 217891,\n",
      "          66058,    108, 235290, 217891,    708,   9408, 136586,   7784,    731,\n",
      "         121409,  57483,    578,   8417,   1280,    573, 165788, 235265,    108,\n",
      "         235290,   2365,  41748,   4282,  55786,   7257, 235269,   3359,  34883,\n",
      "         235269,   5115, 235269,    578,  31152, 235265,    109,    688, 235308,\n",
      "         235265,   5794,  29263,  66058,    108, 235290,   5794,    603,   8727,\n",
      "            604,   4282]], device='cuda:0')\n",
      "CPU times: total: 1.97 s\n",
      "Wall time: 10.5 s\n"
     ]
    }
   ],
   "source": [
    "%%time\n",
    "\n",
    "# Tokenize the input text\n",
    "input_ids = tokenizer(prompt,\n",
    "                     return_tensors=\"pt\").to(\"cuda\")\n",
    "\n",
    "\n",
    "# Generate outputs from local llm\n",
    "outputs = llm_model.generate(**input_ids,\n",
    "                            max_new_tokens=256)\n",
    "print(f\"Model output (tokens):\\n{outputs}\")"
   ]
  },
  {
   "cell_type": "code",
   "execution_count": 48,
   "metadata": {},
   "outputs": [
    {
     "name": "stdout",
     "output_type": "stream",
     "text": [
      "Model output (decoded):\n",
      " <bos><bos><start_of_turn>user\n",
      "What are macronutrients? What roles do they play in the human body?<end_of_turn>\n",
      "<start_of_turn>model\n",
      "Sure, here's a summary of macronutrients:\n",
      "\n",
      "**Macronutrients** are nutrients that the body needs in large amounts to maintain good health. They are essential for various bodily functions, including:\n",
      "\n",
      "**1. Energy Production:**\n",
      "- Carbohydrates provide the body with energy through glucose, which is a type of sugar.\n",
      "- Proteins are used to build and repair tissues, produce enzymes, and produce hormones.\n",
      "- Fats provide energy and help absorb vitamins.\n",
      "\n",
      "**2. Building and Repair:**\n",
      "- Calcium and vitamin D are essential for bone and teeth health.\n",
      "- Protein is critical for muscle growth, repair, and immune function.\n",
      "- Vitamins and minerals like iron, vitamin B12, and vitamin C support various bodily functions.\n",
      "\n",
      "**3. Metabolism:**\n",
      "- Carbohydrates are the body's main source of energy for short-term activities.\n",
      "- Proteins are used for long-term energy storage and tissue repair.\n",
      "- Fats are used for energy storage and insulation.\n",
      "\n",
      "**4. Hormones:**\n",
      "- Hormones are chemical messengers produced by endocrine glands and released into the bloodstream.\n",
      "- They regulate various bodily functions, including metabolism, growth, and reproduction.\n",
      "\n",
      "**5. Water Balance:**\n",
      "- Water is essential for various\n",
      "\n"
     ]
    }
   ],
   "source": [
    "# Decode the output tokens to text\n",
    "outputs_decoded = tokenizer.decode(outputs[0])\n",
    "print(f\"Model output (decoded):\\n {outputs_decoded}\\n\")"
   ]
  },
  {
   "cell_type": "code",
   "execution_count": 49,
   "metadata": {},
   "outputs": [
    {
     "data": {
      "text/plain": [
       "['What are the macronutrients, and what roles do they play in the human body?',\n",
       " 'How do vitamins and minerals differ in their roles and importance for health?',\n",
       " 'Describe the process of digestion and absorption of nutrients in the human body.',\n",
       " 'What role does fibre play in digestion? Name five fibre containing foods.',\n",
       " 'Explain the concept of energy balance and its importance in weight management.',\n",
       " 'How often should infants be breastfed?',\n",
       " 'What are symptoms of pellagra?',\n",
       " 'How does saliva help with digestion?',\n",
       " 'What is the RDI for protein per day?',\n",
       " 'water soluble vitamins']"
      ]
     },
     "execution_count": 49,
     "metadata": {},
     "output_type": "execute_result"
    }
   ],
   "source": [
    "# Nutrition-style questions generated with GPT4\n",
    "gpt4_questions = [\n",
    "    \"What are the macronutrients, and what roles do they play in the human body?\",\n",
    "    \"How do vitamins and minerals differ in their roles and importance for health?\",\n",
    "    \"Describe the process of digestion and absorption of nutrients in the human body.\",\n",
    "    \"What role does fibre play in digestion? Name five fibre containing foods.\",\n",
    "    \"Explain the concept of energy balance and its importance in weight management.\"\n",
    "]\n",
    "\n",
    "# Manually created question list\n",
    "manual_questions = [\n",
    "    \"How often should infants be breastfed?\",\n",
    "    \"What are symptoms of pellagra?\",\n",
    "    \"How does saliva help with digestion?\",\n",
    "    \"What is the RDI for protein per day?\",\n",
    "    \"water soluble vitamins\"\n",
    "]\n",
    "\n",
    "query_list = gpt4_questions + manual_questions\n",
    "query_list"
   ]
  },
  {
   "cell_type": "code",
   "execution_count": 50,
   "metadata": {},
   "outputs": [
    {
     "name": "stdout",
     "output_type": "stream",
     "text": [
      "Query: water soluble vitamins\n",
      "[INFO] Time taken to get scores on 1680 embeddings: 0.00028 seconds.\n"
     ]
    },
    {
     "data": {
      "text/plain": [
       "(tensor([0.7893, 0.7625, 0.7386, 0.7099, 0.6996, 0.6635, 0.6475, 0.6391, 0.6331,\n",
       "         0.5938], device='cuda:0'),\n",
       " tensor([855, 801, 756, 755, 848, 768, 854,  50, 759,  51], device='cuda:0'))"
      ]
     },
     "execution_count": 50,
     "metadata": {},
     "output_type": "execute_result"
    }
   ],
   "source": [
    "import random\n",
    "\n",
    "query = random.choice(query_list)\n",
    "print(f\"Query: {query}\")\n",
    "\n",
    "# Get scores and indices of top related results\n",
    "scores, indices = retrieve_relevant_resources(query=query, embeddings=embeddings)\n",
    "scores, indices"
   ]
  },
  {
   "cell_type": "markdown",
   "metadata": {},
   "source": [
    "### Augmenting our Prompt with context items"
   ]
  },
  {
   "cell_type": "code",
   "execution_count": 64,
   "metadata": {},
   "outputs": [],
   "source": [
    "# query = \"How often should infants be breastfed?\""
   ]
  },
  {
   "cell_type": "code",
   "execution_count": 74,
   "metadata": {},
   "outputs": [
    {
     "name": "stdout",
     "output_type": "stream",
     "text": [
      "Query: Describe the process of digestion and absorption of nutrients in the human body.\n",
      "[INFO] Time taken to get scores on 1680 embeddings: 0.00007 seconds.\n",
      "<bos><start_of_turn>user\n",
      "Based on the following context items, please answer the query.\n",
      "Give yourself room to think by extracting relevant passages from the context before answering the query.\n",
      "Don't return the thinking, only return the answer.\n",
      "Make sure your answers are as explanatory as possible.\n",
      "Use the following examples as reference for the ideal answer style.\n",
      "\n",
      "Example 1:\n",
      "Query: What are the fat-soluble vitamins?\n",
      "Answer: The fat-soluble vitamins include Vitamin A, Vitamin D, Vitamin E, and Vitamin K. These vitamins are absorbed along with fats in the diet and can be stored in the body's fatty tissue and liver for later use. Vitamin A is important for vision, immune function, and skin health. Vitamin D plays a critical role in calcium absorption and bone health. Vitamin E acts as an antioxidant, protecting cells from damage. Vitamin K is essential for blood clotting and bone metabolism.\n",
      "\n",
      "Example 2:\n",
      "Query: What are the causes of type 2 diabetes?\n",
      "Answer: Type 2 diabetes is often associated with overnutrition, particularly the overconsumption of calories leading to obesity. Factors include a diet high in refined sugars and saturated fats, which can lead to insulin resistance, a condition where the body's cells do not respond effectively to insulin. Over time, the pancreas cannot produce enough insulin to manage blood sugar levels, resulting in type 2 diabetes. Additionally, excessive caloric intake without sufficient physical activity exacerbates the risk by promoting weight gain and fat accumulation, particularly around the abdomen, further contributing to insulin resistance.\n",
      "\n",
      "Example 3:\n",
      "Query: What is the importance of hydration for physical performance?\n",
      "Answer: Hydration is crucial for physical performance because water plays key roles in maintaining blood volume, regulating body temperature, and ensuring the transport of nutrients and oxygen to cells. Adequate hydration is essential for optimal muscle function, endurance, and recovery. Dehydration can lead to decreased performance, fatigue, and increased risk of heat-related illnesses, such as heat stroke. Drinking sufficient water before, during, and after exercise helps ensure peak physical performance and recovery.\n",
      "\n",
      "Now use the following context items to answer the user query:\n",
      "- all other organ systems in the human body. We will learn the process of nutrient digestion and absorption, which further reiterates the importance of developing a healthy diet to maintain a healthier you. The evidence abounds that food can indeed be “thy medicine.” Learning Activities Technology Note: The second edition of the Human Nutrition Open Educational Resource (OER) textbook features interactive learning activities. These activities are available in the web-based textbook and not available in the downloadable versions (EPUB, Digital PDF, Print_PDF, or Open Document). Learning activities may be used across various mobile devices, however, for the best user experience it is strongly recommended that users complete these activities using a desktop or laptop computer and in Google Chrome.  An interactive or media element has been excluded from this version of the text. You can view it online here: http://pressbooks.oer.hawaii.edu/ humannutrition2/?p=71 60 | Introduction\n",
      "- The Digestive System UNIVERSITY OF HAWAI‘I AT MĀNOA FOOD SCIENCE AND HUMAN NUTRITION PROGRAM AND HUMAN NUTRITION PROGRAM The process of digestion begins even before you put food into your mouth. When you feel hungry, your body sends a message to your brain that it is time to eat. Sights and smells influence your body’s preparedness for food. Smelling food sends a message to your brain. Your brain then tells the mouth to get ready, and you start to salivate in preparation for a meal. Once you have eaten, your digestive system (Figure 2.4 “The Human Digestive System”) starts the process that breaks down the components of food into smaller components that can be absorbed and taken into the body. To do this, the digestive system functions on two levels, mechanically to move and mix ingested food and chemically to break down large molecules. The smaller nutrient molecules can then be absorbed and processed by cells throughout the body for energy or used as building blocks for new cells. The digestive system is one of the eleven organ systems of the human body, and it is composed of several hollow tube-shaped organs including the mouth, pharynx, esophagus, stomach, small intestine, large intestine (colon), rectum, and anus. It is lined with mucosal tissue that secretes digestive juices (which aid in the breakdown of food) and mucus (which facilitates the propulsion of food through the tract).\n",
      "- An interactive or media element has been excluded from this version of the text. You can view it online here: http://pressbooks.oer.hawaii.edu/ humannutrition2/?p=182  An interactive or media element has been excluded from this version of the text. You can view it online here: http://pressbooks.oer.hawaii.edu/ humannutrition2/?p=182 252 | Digestion and Absorption of Carbohydrates\n",
      "- All eleven organ systems in the human body require nutrient input to perform their specific biological functions. Overall health and the ability to carry out all of life’s basic processes is fueled by energy- supplying nutrients (carbohydrate, fat, and protein). Without them, organ systems would fail, humans would not reproduce, and the race would disappear. In this section, we will discuss some of the critical nutrients that support specific organ system functions. Learning Activities Technology Note: The second edition of the Human Nutrition Open Educational Resource (OER) textbook features interactive learning activities. These activities are available in the web-based textbook and not available in the downloadable versions (EPUB, Digital PDF, Print_PDF, or Open Document). Learning activities may be used across various mobile devices, however, for the best user experience it is strongly recommended that users complete these activities using a desktop or laptop computer and in Google Chrome.  An interactive or media element has been excluded from this version of the text. You can view it online here: 80 | The Digestive System\n",
      "- Metabolic pathways of a cell down, it is not metabolically efficient for a cell to synthesize fatty acids and break them down at the same time. Catabolism of food molecules begins when food enters the mouth, as the enzyme salivary amylase initiates the breakdown of the starch in foods. The entire process of digestion converts the large polymers in food to monomers that can be absorbed. Starches are broken down to monosaccharides, lipids are broken down to fatty acids, and proteins are broken down to amino acids. These monomers are absorbed into the bloodstream either directly, as is the case with monosaccharides and amino acids, or repackaged in intestinal cells for transport by an indirect route through lymphatic vessels, as is the case with most fatty acids and other fat-soluble molecules. Once absorbed, water-soluble nutrients first travel to the liver which controls their passage into the blood that transports the nutrients to cells throughout the body. The fat-soluble nutrients gradually pass from the lymphatic vessels into blood flowing to body cells. Cells requiring energy or building blocks take up the nutrients from the blood and process them in either catabolic or anabolic pathways. The organ systems of the body require fuel and building blocks to perform the many functions of the body, such as digesting, absorbing, breathing, pumping blood, transporting nutrients in and wastes out, maintaining body temperature, and making new cells. Figure 8.3 Cellular Metabolic Processes The Atom | 463\n",
      "- Image by Allison Calabrese / CC BY 4.0 From the Mouth to the Stomach There are four steps in the digestion process (Figure 2.5 “The Human Digestive System”). The first step is ingestion, which is the intake of food into the digestive tract. It may seem a simple process, but ingestion involves smelling food, thinking about food, and the involuntary release of saliva in the mouth to prepare for food entry. In the mouth, where the second step of digestion starts, the mechanical and chemical breakdown of food begins. The chemical breakdown of food involves enzymes, such as salivary amylase that starts the breakdown of large starch molecules into smaller components. Mechanical breakdown starts with mastication (chewing) in the mouth. Teeth crush and grind large food particles, while saliva provides lubrication and enables food movement downward. The slippery mass of partially broken-down food is called a bolus, which moves down the digestive tract as you swallow. Swallowing may seem voluntary at first because it requires conscious effort to push the food with the tongue back toward the throat, but after this, swallowing proceeds involuntarily, meaning it cannot be stopped 72 | The Digestive System\n",
      "- Nutrients Are Essential for Cell and Organ Function When the digestive system has broken down food to its nutrient components, the body eagerly awaits delivery. Water soluble nutrients absorbed into the blood travel directly to the liver via a major blood vessel called the portal vein. One of the liver’s primary functions is to regulate metabolic homeostasis. Metabolic homeostasis is achieved when the nutrients consumed and absorbed match the energy required to carry out life’s biological processes. Simply put, nutrient energy intake equals energy output. Whereas glucose and amino acids are directly transported from the small intestine to the liver, lipids are transported to the liver by a more circuitous route involving the lymphatic system. The lymphatic system is a one-way system of vessels that transports lymph, a fluid rich in white blood cells, and lipid soluble substances after a meal containing lipids. The lymphatic system slowly moves its contents through the lymphatic vessels and empties into blood vessels in the upper chest area. Now, the absorbed lipid soluble components are in the blood where they can be distributed throughout the body and utilized by cells (see Figure 2.9 “The Absorption of Nutrients”). Figure 2.9 The Absorption of Nutrients 78 | The Digestive System\n",
      "- Learning Objectives By the end of this chapter, you will be able to: • Describe basic concepts in nutrition • Describe factors that affect your nutritional needs • Describe the importance of research and scientific methods to understanding nutrition What are Nutrients? The foods we eat contain nutrients. Nutrients are substances required by the body to perform its basic functions. Nutrients must be obtained from our diet, since the human body does not synthesize or produce them. Nutrients have one or more of three basic functions: they provide energy, contribute to body structure, and/or regulate chemical processes in the body. These basic functions allow us to detect and respond to environmental surroundings, move, excrete wastes, respire (breathe), grow, and reproduce. There are six classes of nutrients required for the body to function and maintain overall health. These are carbohydrates, lipids, proteins, water, vitamins, and minerals. Foods also contain non-nutrients that may be harmful (such as natural toxins common in plant foods and additives like some dyes and preservatives) or beneficial (such as antioxidants). 4 | Introduction\n",
      "- Learning Activities Technology Note: The second edition of the Human Nutrition Open Educational Resource (OER) textbook features interactive learning activities. These activities are available in the web-based textbook and not available in the downloadable versions (EPUB, Digital PDF, Print_PDF, or Open Document). Learning activities may be used across various mobile devices, however, for the best user experience it is strongly recommended that users complete these activities using a desktop or laptop computer and in Google Chrome.  An interactive or media element has been excluded from this version of the text. You can view it online here: http://pressbooks.oer.hawaii.edu/ humannutrition2/?p=254  382 | Protein Digestion and Absorption\n",
      "- Learning Activities Technology Note: The second edition of the Human Nutrition Open Educational Resource (OER) textbook features interactive learning activities. These activities are available in the web-based textbook and not available in the downloadable versions (EPUB, Digital PDF, Print_PDF, or Open Document). Learning activities may be used across various mobile devices, however, for the best user experience it is strongly recommended that users complete these activities using a desktop or laptop computer and in Google Chrome.  An interactive or media element has been excluded from this version of the text. You can view it online here: http://pressbooks.oer.hawaii.edu/ humannutrition2/?p=225 An interactive or media element has been excluded from this version of the text. You can view it online here: Digestion and Absorption of Lipids | 329\n",
      "\n",
      "Relevant passages: <extract relevant passages from the context here>\n",
      "User query: Describe the process of digestion and absorption of nutrients in the human body.\n",
      "Answer:<end_of_turn>\n",
      "<start_of_turn>model\n",
      "\n"
     ]
    }
   ],
   "source": [
    "def prompt_formatter(query, context_items: list[dict]):\n",
    "    context = \"- \" + \"\\n- \".join([item[\"sentence_chunk\"] for item in context_items])\n",
    "    base_prompt = f\"\"\"Based on the following context items, please answer the query.\n",
    "Give yourself room to think by extracting relevant passages from the context before answering the query.\n",
    "Don't return the thinking, only return the answer.\n",
    "Make sure your answers are as explanatory as possible.\n",
    "Use the following examples as reference for the ideal answer style.\n",
    "\\nExample 1:\n",
    "Query: What are the fat-soluble vitamins?\n",
    "Answer: The fat-soluble vitamins include Vitamin A, Vitamin D, Vitamin E, and Vitamin K. These vitamins are absorbed along with fats in the diet and can be stored in the body's fatty tissue and liver for later use. Vitamin A is important for vision, immune function, and skin health. Vitamin D plays a critical role in calcium absorption and bone health. Vitamin E acts as an antioxidant, protecting cells from damage. Vitamin K is essential for blood clotting and bone metabolism.\n",
    "\\nExample 2:\n",
    "Query: What are the causes of type 2 diabetes?\n",
    "Answer: Type 2 diabetes is often associated with overnutrition, particularly the overconsumption of calories leading to obesity. Factors include a diet high in refined sugars and saturated fats, which can lead to insulin resistance, a condition where the body's cells do not respond effectively to insulin. Over time, the pancreas cannot produce enough insulin to manage blood sugar levels, resulting in type 2 diabetes. Additionally, excessive caloric intake without sufficient physical activity exacerbates the risk by promoting weight gain and fat accumulation, particularly around the abdomen, further contributing to insulin resistance.\n",
    "\\nExample 3:\n",
    "Query: What is the importance of hydration for physical performance?\n",
    "Answer: Hydration is crucial for physical performance because water plays key roles in maintaining blood volume, regulating body temperature, and ensuring the transport of nutrients and oxygen to cells. Adequate hydration is essential for optimal muscle function, endurance, and recovery. Dehydration can lead to decreased performance, fatigue, and increased risk of heat-related illnesses, such as heat stroke. Drinking sufficient water before, during, and after exercise helps ensure peak physical performance and recovery.\n",
    "\\nNow use the following context items to answer the user query:\n",
    "{context}\n",
    "\\nRelevant passages: <extract relevant passages from the context here>\n",
    "User query: {query}\n",
    "Answer:\"\"\"\n",
    "\n",
    "    # Create a prompt template for instruction-tuned model\n",
    "    dialogue_template = [\n",
    "        {\n",
    "            \"role\": \"user\",\n",
    "            \"content\": base_prompt\n",
    "        }\n",
    "    ]\n",
    "\n",
    "    # Apply the chat template\n",
    "    prompt = tokenizer.apply_chat_template(conversation=dialogue_template,\n",
    "                                          tokenize=False,\n",
    "                                          add_generation_prompt=True)\n",
    "    \n",
    "    return prompt\n",
    "\n",
    "query = random.choice(query_list)\n",
    "print(f\"Query: {query}\")\n",
    "\n",
    "# Get relevant resources\n",
    "scores, indices = retrieve_relevant_resources(query=query, embeddings=embeddings)\n",
    "\n",
    "# Create a list of context items\n",
    "context_items = [pages_and_chunks[i] for i in indices]\n",
    "\n",
    "# Format our prompt\n",
    "prompt = prompt_formatter(query=query, context_items=context_items)\n",
    "print(prompt)"
   ]
  },
  {
   "cell_type": "code",
   "execution_count": 75,
   "metadata": {},
   "outputs": [
    {
     "name": "stdout",
     "output_type": "stream",
     "text": [
      "Query: Describe the process of digestion and absorption of nutrients in the human body.\n",
      "RAG answer:\n",
      "<bos>Sure, here's a summary of the process of digestion and absorption of nutrients in the human body:\n",
      "\n",
      "**Digestion:**\n",
      "\n",
      "1. **Ingestion:** The process begins even before food enters the mouth. The mouth contains salivary amylase that breaks down starch into smaller molecules.\n",
      "2. **Mechanical Breakdown:** The bolus moves down the digestive tract through the mechanical and chemical breakdown of food.\n",
      "3. **Chemical Breakdown:** The liver regulates nutrient intake by regulating the passage of nutrients into the bloodstream.\n",
      "\n",
      "**Absorption:**\n",
      "\n",
      "1. **Water-soluble Nutrients:** Nutrients like glucose and amino acids are absorbed directly into the bloodstream.\n",
      "2. **Fat-soluble Nutrients:** Lipids are transported to the liver by the lymphatic system.\n",
      "3. **Absorption of Nutrients:** Nutrients are delivered to cells via the bloodstream and utilized for energy or building blocks.<eos>\n",
      "CPU times: total: 5.33 s\n",
      "Wall time: 11.6 s\n"
     ]
    }
   ],
   "source": [
    "%%time\n",
    "\n",
    "input_ids = tokenizer(prompt, return_tensors=\"pt\").to(\"cuda\")\n",
    "\n",
    "# Generate an output of tokens\n",
    "outputs = llm_model.generate(**input_ids,\n",
    "                            temperature=0.5, # from 0-1 and lower the value, the more deterministic the text, the higher the value, the more creative\n",
    "                            do_sample=True, # whether or not to use sampling\n",
    "                            max_new_tokens=256)\n",
    "\n",
    "# Turn the output tokens into text\n",
    "output_text = tokenizer.decode(outputs[0])\n",
    "print(f\"Query: {query}\")\n",
    "print(f\"RAG answer:\\n{output_text.replace(prompt, \"\")}\")"
   ]
  },
  {
   "cell_type": "code",
   "execution_count": null,
   "metadata": {},
   "outputs": [],
   "source": []
  }
 ],
 "metadata": {
  "kernelspec": {
   "display_name": "Python 3 (ipykernel)",
   "language": "python",
   "name": "python3"
  },
  "language_info": {
   "codemirror_mode": {
    "name": "ipython",
    "version": 3
   },
   "file_extension": ".py",
   "mimetype": "text/x-python",
   "name": "python",
   "nbconvert_exporter": "python",
   "pygments_lexer": "ipython3",
   "version": "3.12.2"
  }
 },
 "nbformat": 4,
 "nbformat_minor": 4
}
